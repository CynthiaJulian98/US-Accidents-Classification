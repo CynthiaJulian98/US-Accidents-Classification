{
 "cells": [
  {
   "cell_type": "code",
   "execution_count": 1,
   "metadata": {
    "id": "2-4ykrerHmZC"
   },
   "outputs": [],
   "source": [
    "#import packages\n",
    "import datetime\n",
    "import numpy as np\n",
    "import pandas as pd\n",
    "import seaborn as sns\n",
    "import matplotlib.pyplot as plt\n",
    "%matplotlib inline"
   ]
  },
  {
   "cell_type": "code",
   "execution_count": 19,
   "metadata": {
    "colab": {
     "base_uri": "https://localhost:8080/",
     "height": 387
    },
    "id": "3PQWgNbQHmmp",
    "outputId": "8879bb92-9d0a-4e11-b764-7f46a8490846",
    "scrolled": true
   },
   "outputs": [],
   "source": [
    "##data read\n",
    "Acc_df = pd.read_csv(\"US_Accidents.csv\")"
   ]
  },
  {
   "cell_type": "code",
   "execution_count": 4,
   "metadata": {
    "colab": {
     "base_uri": "https://localhost:8080/",
     "height": 162
    },
    "id": "JiCpnZPdI6gM",
    "outputId": "10c951e5-af97-444e-f048-9fe2e6f4f2e6"
   },
   "outputs": [
    {
     "data": {
      "text/html": [
       "<div>\n",
       "<style scoped>\n",
       "    .dataframe tbody tr th:only-of-type {\n",
       "        vertical-align: middle;\n",
       "    }\n",
       "\n",
       "    .dataframe tbody tr th {\n",
       "        vertical-align: top;\n",
       "    }\n",
       "\n",
       "    .dataframe thead th {\n",
       "        text-align: right;\n",
       "    }\n",
       "</style>\n",
       "<table border=\"1\" class=\"dataframe\">\n",
       "  <thead>\n",
       "    <tr style=\"text-align: right;\">\n",
       "      <th></th>\n",
       "      <th>ID</th>\n",
       "      <th>Source</th>\n",
       "      <th>TMC</th>\n",
       "      <th>Severity</th>\n",
       "      <th>Start_Time</th>\n",
       "      <th>End_Time</th>\n",
       "      <th>Start_Lat</th>\n",
       "      <th>Start_Lng</th>\n",
       "      <th>End_Lat</th>\n",
       "      <th>End_Lng</th>\n",
       "      <th>...</th>\n",
       "      <th>Roundabout</th>\n",
       "      <th>Station</th>\n",
       "      <th>Stop</th>\n",
       "      <th>Traffic_Calming</th>\n",
       "      <th>Traffic_Signal</th>\n",
       "      <th>Turning_Loop</th>\n",
       "      <th>Sunrise_Sunset</th>\n",
       "      <th>Civil_Twilight</th>\n",
       "      <th>Nautical_Twilight</th>\n",
       "      <th>Astronomical_Twilight</th>\n",
       "    </tr>\n",
       "  </thead>\n",
       "  <tbody>\n",
       "    <tr>\n",
       "      <th>0</th>\n",
       "      <td>A-1</td>\n",
       "      <td>MapQuest</td>\n",
       "      <td>201.0</td>\n",
       "      <td>3</td>\n",
       "      <td>2016-02-08 05:46:00</td>\n",
       "      <td>2016-02-08 11:00:00</td>\n",
       "      <td>39.865147</td>\n",
       "      <td>-84.058723</td>\n",
       "      <td>NaN</td>\n",
       "      <td>NaN</td>\n",
       "      <td>...</td>\n",
       "      <td>False</td>\n",
       "      <td>False</td>\n",
       "      <td>False</td>\n",
       "      <td>False</td>\n",
       "      <td>False</td>\n",
       "      <td>False</td>\n",
       "      <td>Night</td>\n",
       "      <td>Night</td>\n",
       "      <td>Night</td>\n",
       "      <td>Night</td>\n",
       "    </tr>\n",
       "    <tr>\n",
       "      <th>1</th>\n",
       "      <td>A-2</td>\n",
       "      <td>MapQuest</td>\n",
       "      <td>201.0</td>\n",
       "      <td>2</td>\n",
       "      <td>2016-02-08 06:07:59</td>\n",
       "      <td>2016-02-08 06:37:59</td>\n",
       "      <td>39.928059</td>\n",
       "      <td>-82.831184</td>\n",
       "      <td>NaN</td>\n",
       "      <td>NaN</td>\n",
       "      <td>...</td>\n",
       "      <td>False</td>\n",
       "      <td>False</td>\n",
       "      <td>False</td>\n",
       "      <td>False</td>\n",
       "      <td>False</td>\n",
       "      <td>False</td>\n",
       "      <td>Night</td>\n",
       "      <td>Night</td>\n",
       "      <td>Night</td>\n",
       "      <td>Day</td>\n",
       "    </tr>\n",
       "    <tr>\n",
       "      <th>2</th>\n",
       "      <td>A-3</td>\n",
       "      <td>MapQuest</td>\n",
       "      <td>201.0</td>\n",
       "      <td>2</td>\n",
       "      <td>2016-02-08 06:49:27</td>\n",
       "      <td>2016-02-08 07:19:27</td>\n",
       "      <td>39.063148</td>\n",
       "      <td>-84.032608</td>\n",
       "      <td>NaN</td>\n",
       "      <td>NaN</td>\n",
       "      <td>...</td>\n",
       "      <td>False</td>\n",
       "      <td>False</td>\n",
       "      <td>False</td>\n",
       "      <td>False</td>\n",
       "      <td>True</td>\n",
       "      <td>False</td>\n",
       "      <td>Night</td>\n",
       "      <td>Night</td>\n",
       "      <td>Day</td>\n",
       "      <td>Day</td>\n",
       "    </tr>\n",
       "    <tr>\n",
       "      <th>3</th>\n",
       "      <td>A-4</td>\n",
       "      <td>MapQuest</td>\n",
       "      <td>201.0</td>\n",
       "      <td>3</td>\n",
       "      <td>2016-02-08 07:23:34</td>\n",
       "      <td>2016-02-08 07:53:34</td>\n",
       "      <td>39.747753</td>\n",
       "      <td>-84.205582</td>\n",
       "      <td>NaN</td>\n",
       "      <td>NaN</td>\n",
       "      <td>...</td>\n",
       "      <td>False</td>\n",
       "      <td>False</td>\n",
       "      <td>False</td>\n",
       "      <td>False</td>\n",
       "      <td>False</td>\n",
       "      <td>False</td>\n",
       "      <td>Night</td>\n",
       "      <td>Day</td>\n",
       "      <td>Day</td>\n",
       "      <td>Day</td>\n",
       "    </tr>\n",
       "    <tr>\n",
       "      <th>4</th>\n",
       "      <td>A-5</td>\n",
       "      <td>MapQuest</td>\n",
       "      <td>201.0</td>\n",
       "      <td>2</td>\n",
       "      <td>2016-02-08 07:39:07</td>\n",
       "      <td>2016-02-08 08:09:07</td>\n",
       "      <td>39.627781</td>\n",
       "      <td>-84.188354</td>\n",
       "      <td>NaN</td>\n",
       "      <td>NaN</td>\n",
       "      <td>...</td>\n",
       "      <td>False</td>\n",
       "      <td>False</td>\n",
       "      <td>False</td>\n",
       "      <td>False</td>\n",
       "      <td>True</td>\n",
       "      <td>False</td>\n",
       "      <td>Day</td>\n",
       "      <td>Day</td>\n",
       "      <td>Day</td>\n",
       "      <td>Day</td>\n",
       "    </tr>\n",
       "  </tbody>\n",
       "</table>\n",
       "<p>5 rows × 49 columns</p>\n",
       "</div>"
      ],
      "text/plain": [
       "    ID    Source    TMC  Severity           Start_Time             End_Time  \\\n",
       "0  A-1  MapQuest  201.0         3  2016-02-08 05:46:00  2016-02-08 11:00:00   \n",
       "1  A-2  MapQuest  201.0         2  2016-02-08 06:07:59  2016-02-08 06:37:59   \n",
       "2  A-3  MapQuest  201.0         2  2016-02-08 06:49:27  2016-02-08 07:19:27   \n",
       "3  A-4  MapQuest  201.0         3  2016-02-08 07:23:34  2016-02-08 07:53:34   \n",
       "4  A-5  MapQuest  201.0         2  2016-02-08 07:39:07  2016-02-08 08:09:07   \n",
       "\n",
       "   Start_Lat  Start_Lng  End_Lat  End_Lng  ...  Roundabout Station   Stop  \\\n",
       "0  39.865147 -84.058723      NaN      NaN  ...       False   False  False   \n",
       "1  39.928059 -82.831184      NaN      NaN  ...       False   False  False   \n",
       "2  39.063148 -84.032608      NaN      NaN  ...       False   False  False   \n",
       "3  39.747753 -84.205582      NaN      NaN  ...       False   False  False   \n",
       "4  39.627781 -84.188354      NaN      NaN  ...       False   False  False   \n",
       "\n",
       "  Traffic_Calming Traffic_Signal Turning_Loop Sunrise_Sunset Civil_Twilight  \\\n",
       "0           False          False        False          Night          Night   \n",
       "1           False          False        False          Night          Night   \n",
       "2           False           True        False          Night          Night   \n",
       "3           False          False        False          Night            Day   \n",
       "4           False           True        False            Day            Day   \n",
       "\n",
       "  Nautical_Twilight Astronomical_Twilight  \n",
       "0             Night                 Night  \n",
       "1             Night                   Day  \n",
       "2               Day                   Day  \n",
       "3               Day                   Day  \n",
       "4               Day                   Day  \n",
       "\n",
       "[5 rows x 49 columns]"
      ]
     },
     "execution_count": 4,
     "metadata": {},
     "output_type": "execute_result"
    }
   ],
   "source": [
    "Acc_df.head()              # data peak"
   ]
  },
  {
   "cell_type": "code",
   "execution_count": 5,
   "metadata": {
    "colab": {
     "base_uri": "https://localhost:8080/",
     "height": 162
    },
    "id": "ivY9NY5oI645",
    "outputId": "f3bf70db-38df-477a-87a1-ebf6a9fc621c"
   },
   "outputs": [
    {
     "data": {
      "text/plain": [
       "(3513617, 49)"
      ]
     },
     "execution_count": 5,
     "metadata": {},
     "output_type": "execute_result"
    }
   ],
   "source": [
    "Acc_df.shape               # column row count"
   ]
  },
  {
   "cell_type": "code",
   "execution_count": 6,
   "metadata": {
    "id": "Nwrs3C1jI7AI"
   },
   "outputs": [
    {
     "data": {
      "text/html": [
       "<div>\n",
       "<style scoped>\n",
       "    .dataframe tbody tr th:only-of-type {\n",
       "        vertical-align: middle;\n",
       "    }\n",
       "\n",
       "    .dataframe tbody tr th {\n",
       "        vertical-align: top;\n",
       "    }\n",
       "\n",
       "    .dataframe thead th {\n",
       "        text-align: right;\n",
       "    }\n",
       "</style>\n",
       "<table border=\"1\" class=\"dataframe\">\n",
       "  <thead>\n",
       "    <tr style=\"text-align: right;\">\n",
       "      <th></th>\n",
       "      <th>TMC</th>\n",
       "      <th>Severity</th>\n",
       "      <th>Start_Lat</th>\n",
       "      <th>Start_Lng</th>\n",
       "      <th>End_Lat</th>\n",
       "      <th>End_Lng</th>\n",
       "      <th>Distance(mi)</th>\n",
       "      <th>Number</th>\n",
       "      <th>Temperature(F)</th>\n",
       "      <th>Wind_Chill(F)</th>\n",
       "      <th>Humidity(%)</th>\n",
       "      <th>Pressure(in)</th>\n",
       "      <th>Visibility(mi)</th>\n",
       "      <th>Wind_Speed(mph)</th>\n",
       "      <th>Precipitation(in)</th>\n",
       "    </tr>\n",
       "  </thead>\n",
       "  <tbody>\n",
       "    <tr>\n",
       "      <th>count</th>\n",
       "      <td>2.478818e+06</td>\n",
       "      <td>3.513617e+06</td>\n",
       "      <td>3.513617e+06</td>\n",
       "      <td>3.513617e+06</td>\n",
       "      <td>1.034799e+06</td>\n",
       "      <td>1.034799e+06</td>\n",
       "      <td>3.513617e+06</td>\n",
       "      <td>1.250753e+06</td>\n",
       "      <td>3.447885e+06</td>\n",
       "      <td>1.645368e+06</td>\n",
       "      <td>3.443930e+06</td>\n",
       "      <td>3.457735e+06</td>\n",
       "      <td>3.437761e+06</td>\n",
       "      <td>3.059008e+06</td>\n",
       "      <td>1.487743e+06</td>\n",
       "    </tr>\n",
       "    <tr>\n",
       "      <th>mean</th>\n",
       "      <td>2.080226e+02</td>\n",
       "      <td>2.339929e+00</td>\n",
       "      <td>3.654195e+01</td>\n",
       "      <td>-9.579151e+01</td>\n",
       "      <td>3.755758e+01</td>\n",
       "      <td>-1.004560e+02</td>\n",
       "      <td>2.816167e-01</td>\n",
       "      <td>5.975383e+03</td>\n",
       "      <td>6.193512e+01</td>\n",
       "      <td>5.355730e+01</td>\n",
       "      <td>6.511427e+01</td>\n",
       "      <td>2.974463e+01</td>\n",
       "      <td>9.122644e+00</td>\n",
       "      <td>8.219025e+00</td>\n",
       "      <td>1.598256e-02</td>\n",
       "    </tr>\n",
       "    <tr>\n",
       "      <th>std</th>\n",
       "      <td>2.076627e+01</td>\n",
       "      <td>5.521935e-01</td>\n",
       "      <td>4.883520e+00</td>\n",
       "      <td>1.736877e+01</td>\n",
       "      <td>4.861215e+00</td>\n",
       "      <td>1.852879e+01</td>\n",
       "      <td>1.550134e+00</td>\n",
       "      <td>1.496624e+04</td>\n",
       "      <td>1.862106e+01</td>\n",
       "      <td>2.377334e+01</td>\n",
       "      <td>2.275558e+01</td>\n",
       "      <td>8.319758e-01</td>\n",
       "      <td>2.885879e+00</td>\n",
       "      <td>5.262847e+00</td>\n",
       "      <td>1.928262e-01</td>\n",
       "    </tr>\n",
       "    <tr>\n",
       "      <th>min</th>\n",
       "      <td>2.000000e+02</td>\n",
       "      <td>1.000000e+00</td>\n",
       "      <td>2.455527e+01</td>\n",
       "      <td>-1.246238e+02</td>\n",
       "      <td>2.457011e+01</td>\n",
       "      <td>-1.244978e+02</td>\n",
       "      <td>0.000000e+00</td>\n",
       "      <td>0.000000e+00</td>\n",
       "      <td>-8.900000e+01</td>\n",
       "      <td>-8.900000e+01</td>\n",
       "      <td>1.000000e+00</td>\n",
       "      <td>0.000000e+00</td>\n",
       "      <td>0.000000e+00</td>\n",
       "      <td>0.000000e+00</td>\n",
       "      <td>0.000000e+00</td>\n",
       "    </tr>\n",
       "    <tr>\n",
       "      <th>25%</th>\n",
       "      <td>2.010000e+02</td>\n",
       "      <td>2.000000e+00</td>\n",
       "      <td>3.363784e+01</td>\n",
       "      <td>-1.174418e+02</td>\n",
       "      <td>3.399477e+01</td>\n",
       "      <td>-1.183440e+02</td>\n",
       "      <td>0.000000e+00</td>\n",
       "      <td>8.640000e+02</td>\n",
       "      <td>5.000000e+01</td>\n",
       "      <td>3.570000e+01</td>\n",
       "      <td>4.800000e+01</td>\n",
       "      <td>2.973000e+01</td>\n",
       "      <td>1.000000e+01</td>\n",
       "      <td>5.000000e+00</td>\n",
       "      <td>0.000000e+00</td>\n",
       "    </tr>\n",
       "    <tr>\n",
       "      <th>50%</th>\n",
       "      <td>2.010000e+02</td>\n",
       "      <td>2.000000e+00</td>\n",
       "      <td>3.591687e+01</td>\n",
       "      <td>-9.102601e+01</td>\n",
       "      <td>3.779736e+01</td>\n",
       "      <td>-9.703438e+01</td>\n",
       "      <td>0.000000e+00</td>\n",
       "      <td>2.798000e+03</td>\n",
       "      <td>6.400000e+01</td>\n",
       "      <td>5.700000e+01</td>\n",
       "      <td>6.700000e+01</td>\n",
       "      <td>2.995000e+01</td>\n",
       "      <td>1.000000e+01</td>\n",
       "      <td>7.000000e+00</td>\n",
       "      <td>0.000000e+00</td>\n",
       "    </tr>\n",
       "    <tr>\n",
       "      <th>75%</th>\n",
       "      <td>2.010000e+02</td>\n",
       "      <td>3.000000e+00</td>\n",
       "      <td>4.032217e+01</td>\n",
       "      <td>-8.093299e+01</td>\n",
       "      <td>4.105139e+01</td>\n",
       "      <td>-8.210168e+01</td>\n",
       "      <td>1.000000e-02</td>\n",
       "      <td>7.098000e+03</td>\n",
       "      <td>7.590000e+01</td>\n",
       "      <td>7.200000e+01</td>\n",
       "      <td>8.400000e+01</td>\n",
       "      <td>3.009000e+01</td>\n",
       "      <td>1.000000e+01</td>\n",
       "      <td>1.150000e+01</td>\n",
       "      <td>0.000000e+00</td>\n",
       "    </tr>\n",
       "    <tr>\n",
       "      <th>max</th>\n",
       "      <td>4.060000e+02</td>\n",
       "      <td>4.000000e+00</td>\n",
       "      <td>4.900220e+01</td>\n",
       "      <td>-6.711317e+01</td>\n",
       "      <td>4.907500e+01</td>\n",
       "      <td>-6.710924e+01</td>\n",
       "      <td>3.336300e+02</td>\n",
       "      <td>9.999997e+06</td>\n",
       "      <td>1.706000e+02</td>\n",
       "      <td>1.150000e+02</td>\n",
       "      <td>1.000000e+02</td>\n",
       "      <td>5.774000e+01</td>\n",
       "      <td>1.400000e+02</td>\n",
       "      <td>9.840000e+02</td>\n",
       "      <td>2.500000e+01</td>\n",
       "    </tr>\n",
       "  </tbody>\n",
       "</table>\n",
       "</div>"
      ],
      "text/plain": [
       "                TMC      Severity     Start_Lat     Start_Lng       End_Lat  \\\n",
       "count  2.478818e+06  3.513617e+06  3.513617e+06  3.513617e+06  1.034799e+06   \n",
       "mean   2.080226e+02  2.339929e+00  3.654195e+01 -9.579151e+01  3.755758e+01   \n",
       "std    2.076627e+01  5.521935e-01  4.883520e+00  1.736877e+01  4.861215e+00   \n",
       "min    2.000000e+02  1.000000e+00  2.455527e+01 -1.246238e+02  2.457011e+01   \n",
       "25%    2.010000e+02  2.000000e+00  3.363784e+01 -1.174418e+02  3.399477e+01   \n",
       "50%    2.010000e+02  2.000000e+00  3.591687e+01 -9.102601e+01  3.779736e+01   \n",
       "75%    2.010000e+02  3.000000e+00  4.032217e+01 -8.093299e+01  4.105139e+01   \n",
       "max    4.060000e+02  4.000000e+00  4.900220e+01 -6.711317e+01  4.907500e+01   \n",
       "\n",
       "            End_Lng  Distance(mi)        Number  Temperature(F)  \\\n",
       "count  1.034799e+06  3.513617e+06  1.250753e+06    3.447885e+06   \n",
       "mean  -1.004560e+02  2.816167e-01  5.975383e+03    6.193512e+01   \n",
       "std    1.852879e+01  1.550134e+00  1.496624e+04    1.862106e+01   \n",
       "min   -1.244978e+02  0.000000e+00  0.000000e+00   -8.900000e+01   \n",
       "25%   -1.183440e+02  0.000000e+00  8.640000e+02    5.000000e+01   \n",
       "50%   -9.703438e+01  0.000000e+00  2.798000e+03    6.400000e+01   \n",
       "75%   -8.210168e+01  1.000000e-02  7.098000e+03    7.590000e+01   \n",
       "max   -6.710924e+01  3.336300e+02  9.999997e+06    1.706000e+02   \n",
       "\n",
       "       Wind_Chill(F)   Humidity(%)  Pressure(in)  Visibility(mi)  \\\n",
       "count   1.645368e+06  3.443930e+06  3.457735e+06    3.437761e+06   \n",
       "mean    5.355730e+01  6.511427e+01  2.974463e+01    9.122644e+00   \n",
       "std     2.377334e+01  2.275558e+01  8.319758e-01    2.885879e+00   \n",
       "min    -8.900000e+01  1.000000e+00  0.000000e+00    0.000000e+00   \n",
       "25%     3.570000e+01  4.800000e+01  2.973000e+01    1.000000e+01   \n",
       "50%     5.700000e+01  6.700000e+01  2.995000e+01    1.000000e+01   \n",
       "75%     7.200000e+01  8.400000e+01  3.009000e+01    1.000000e+01   \n",
       "max     1.150000e+02  1.000000e+02  5.774000e+01    1.400000e+02   \n",
       "\n",
       "       Wind_Speed(mph)  Precipitation(in)  \n",
       "count     3.059008e+06       1.487743e+06  \n",
       "mean      8.219025e+00       1.598256e-02  \n",
       "std       5.262847e+00       1.928262e-01  \n",
       "min       0.000000e+00       0.000000e+00  \n",
       "25%       5.000000e+00       0.000000e+00  \n",
       "50%       7.000000e+00       0.000000e+00  \n",
       "75%       1.150000e+01       0.000000e+00  \n",
       "max       9.840000e+02       2.500000e+01  "
      ]
     },
     "execution_count": 6,
     "metadata": {},
     "output_type": "execute_result"
    }
   ],
   "source": [
    "Acc_df.describe()          # statistic details"
   ]
  },
  {
   "cell_type": "code",
   "execution_count": 7,
   "metadata": {
    "id": "Y-PvPXHKI7Do"
   },
   "outputs": [
    {
     "name": "stdout",
     "output_type": "stream",
     "text": [
      "<class 'pandas.core.frame.DataFrame'>\n",
      "RangeIndex: 3513617 entries, 0 to 3513616\n",
      "Data columns (total 49 columns):\n",
      "ID                       object\n",
      "Source                   object\n",
      "TMC                      float64\n",
      "Severity                 int64\n",
      "Start_Time               object\n",
      "End_Time                 object\n",
      "Start_Lat                float64\n",
      "Start_Lng                float64\n",
      "End_Lat                  float64\n",
      "End_Lng                  float64\n",
      "Distance(mi)             float64\n",
      "Description              object\n",
      "Number                   float64\n",
      "Street                   object\n",
      "Side                     object\n",
      "City                     object\n",
      "County                   object\n",
      "State                    object\n",
      "Zipcode                  object\n",
      "Country                  object\n",
      "Timezone                 object\n",
      "Airport_Code             object\n",
      "Weather_Timestamp        object\n",
      "Temperature(F)           float64\n",
      "Wind_Chill(F)            float64\n",
      "Humidity(%)              float64\n",
      "Pressure(in)             float64\n",
      "Visibility(mi)           float64\n",
      "Wind_Direction           object\n",
      "Wind_Speed(mph)          float64\n",
      "Precipitation(in)        float64\n",
      "Weather_Condition        object\n",
      "Amenity                  bool\n",
      "Bump                     bool\n",
      "Crossing                 bool\n",
      "Give_Way                 bool\n",
      "Junction                 bool\n",
      "No_Exit                  bool\n",
      "Railway                  bool\n",
      "Roundabout               bool\n",
      "Station                  bool\n",
      "Stop                     bool\n",
      "Traffic_Calming          bool\n",
      "Traffic_Signal           bool\n",
      "Turning_Loop             bool\n",
      "Sunrise_Sunset           object\n",
      "Civil_Twilight           object\n",
      "Nautical_Twilight        object\n",
      "Astronomical_Twilight    object\n",
      "dtypes: bool(13), float64(14), int64(1), object(21)\n",
      "memory usage: 1008.6+ MB\n"
     ]
    }
   ],
   "source": [
    "Acc_df.info()              # column list"
   ]
  },
  {
   "cell_type": "code",
   "execution_count": 8,
   "metadata": {
    "id": "t2VeVtYuI7Gq"
   },
   "outputs": [
    {
     "data": {
      "text/plain": [
       "ID                       False\n",
       "Source                   False\n",
       "TMC                       True\n",
       "Severity                 False\n",
       "Start_Time               False\n",
       "End_Time                 False\n",
       "Start_Lat                False\n",
       "Start_Lng                False\n",
       "End_Lat                   True\n",
       "End_Lng                   True\n",
       "Distance(mi)             False\n",
       "Description               True\n",
       "Number                    True\n",
       "Street                   False\n",
       "Side                     False\n",
       "City                      True\n",
       "County                   False\n",
       "State                    False\n",
       "Zipcode                   True\n",
       "Country                  False\n",
       "Timezone                  True\n",
       "Airport_Code              True\n",
       "Weather_Timestamp         True\n",
       "Temperature(F)            True\n",
       "Wind_Chill(F)             True\n",
       "Humidity(%)               True\n",
       "Pressure(in)              True\n",
       "Visibility(mi)            True\n",
       "Wind_Direction            True\n",
       "Wind_Speed(mph)           True\n",
       "Precipitation(in)         True\n",
       "Weather_Condition         True\n",
       "Amenity                  False\n",
       "Bump                     False\n",
       "Crossing                 False\n",
       "Give_Way                 False\n",
       "Junction                 False\n",
       "No_Exit                  False\n",
       "Railway                  False\n",
       "Roundabout               False\n",
       "Station                  False\n",
       "Stop                     False\n",
       "Traffic_Calming          False\n",
       "Traffic_Signal           False\n",
       "Turning_Loop             False\n",
       "Sunrise_Sunset            True\n",
       "Civil_Twilight            True\n",
       "Nautical_Twilight         True\n",
       "Astronomical_Twilight     True\n",
       "dtype: bool"
      ]
     },
     "execution_count": 8,
     "metadata": {},
     "output_type": "execute_result"
    }
   ],
   "source": [
    "Acc_df.isna().any()        # check NA"
   ]
  },
  {
   "cell_type": "code",
   "execution_count": 9,
   "metadata": {
    "id": "w3JyWouqI7OD"
   },
   "outputs": [
    {
     "data": {
      "text/plain": [
       "array(['MapQuest', 'MapQuest-Bing', 'Bing'], dtype=object)"
      ]
     },
     "execution_count": 9,
     "metadata": {},
     "output_type": "execute_result"
    }
   ],
   "source": [
    "Acc_df['Source'].unique()"
   ]
  },
  {
   "cell_type": "code",
   "execution_count": 10,
   "metadata": {
    "id": "E0QDTEV0I7TN"
   },
   "outputs": [
    {
     "data": {
      "text/plain": [
       "array([3, 2, 1, 4])"
      ]
     },
     "execution_count": 10,
     "metadata": {},
     "output_type": "execute_result"
    }
   ],
   "source": [
    "Acc_df['Severity'].unique()"
   ]
  },
  {
   "cell_type": "code",
   "execution_count": 11,
   "metadata": {
    "id": "JP6W8zGPI7Ym"
   },
   "outputs": [
    {
     "data": {
      "text/plain": [
       "array([False,  True])"
      ]
     },
     "execution_count": 11,
     "metadata": {},
     "output_type": "execute_result"
    }
   ],
   "source": [
    "Acc_df['Side'].unique()\n",
    "\n",
    "Acc_df['State'].unique()\n",
    "\n",
    "Acc_df['Country'].unique()\n",
    "\n",
    "Acc_df['Timezone'].unique()\n",
    "\n",
    "Acc_df['Wind_Direction'].unique()\n",
    "\n",
    "Acc_df['Weather_Condition'].unique()\n",
    "\n",
    "Acc_df['Amenity'].unique()"
   ]
  },
  {
   "cell_type": "code",
   "execution_count": 12,
   "metadata": {
    "id": "4cm2VJLRI7dk"
   },
   "outputs": [
    {
     "data": {
      "text/plain": [
       "array(['Night', 'Day', nan], dtype=object)"
      ]
     },
     "execution_count": 12,
     "metadata": {},
     "output_type": "execute_result"
    }
   ],
   "source": [
    "Acc_df['Amenity'].replace([True, False], ['1', '0'], inplace=True)\n",
    "\n",
    "Acc_df['Bump'].unique()\n",
    "\n",
    "Acc_df['Bump'].replace([True, False], ['1', '0'], inplace=True)\n",
    "\n",
    "Acc_df['Junction'].unique()\n",
    "\n",
    "Acc_df['Junction'].replace([True, False], ['1', '0'], inplace=True)\n",
    "\n",
    "Acc_df['Crossing'].unique()\n",
    "\n",
    "Acc_df['Crossing'].replace([True, False], ['1', '0'], inplace=True)\n",
    "\n",
    "Acc_df['Give_Way'].unique()\n",
    "\n",
    "Acc_df['Give_Way'].replace([True, False], ['1', '0'], inplace=True)\n",
    "\n",
    "Acc_df['No_Exit'].unique()\n",
    "\n",
    "Acc_df['No_Exit'].replace([True, False], ['1', '0'], inplace=True)\n",
    "\n",
    "Acc_df['Railway'].unique()\n",
    "\n",
    "Acc_df['Railway'].replace([True, False], ['1', '0'], inplace=True)\n",
    "\n",
    "Acc_df['Roundabout'].unique()\n",
    "\n",
    "Acc_df['Roundabout'].replace([True, False], ['1', '0'], inplace=True)\n",
    "\n",
    "Acc_df['Station'].unique()\n",
    "\n",
    "Acc_df['Station'].replace([True, False], ['1', '0'], inplace=True)\n",
    "\n",
    "Acc_df['Stop'].unique()\n",
    "\n",
    "Acc_df['Stop'].replace([True, False], ['1', '0'], inplace=True)\n",
    "\n",
    "Acc_df['Traffic_Calming'].unique()\n",
    "\n",
    "Acc_df['Traffic_Calming'].replace([True, False], ['1', '0'], inplace=True)\n",
    "\n",
    "Acc_df['Traffic_Signal'].unique()\n",
    "\n",
    "Acc_df['Traffic_Signal'].replace([True, False], ['1', '0'], inplace=True)\n",
    "\n",
    "Acc_df['Turning_Loop'].unique()\n",
    "\n",
    "Acc_df['Turning_Loop'].replace([True, False], ['1', '0'], inplace=True)\n",
    "\n",
    "Acc_df['Sunrise_Sunset'].unique()\n",
    "\n",
    "Acc_df['Nautical_Twilight'].unique()\n",
    "\n",
    "Acc_df['Astronomical_Twilight'].unique()\n",
    "\n",
    "Acc_df['Civil_Twilight'].unique()"
   ]
  },
  {
   "cell_type": "code",
   "execution_count": 13,
   "metadata": {
    "id": "QONO-DU_I7i5"
   },
   "outputs": [
    {
     "data": {
      "text/html": [
       "<div>\n",
       "<style scoped>\n",
       "    .dataframe tbody tr th:only-of-type {\n",
       "        vertical-align: middle;\n",
       "    }\n",
       "\n",
       "    .dataframe tbody tr th {\n",
       "        vertical-align: top;\n",
       "    }\n",
       "\n",
       "    .dataframe thead th {\n",
       "        text-align: right;\n",
       "    }\n",
       "</style>\n",
       "<table border=\"1\" class=\"dataframe\">\n",
       "  <thead>\n",
       "    <tr style=\"text-align: right;\">\n",
       "      <th></th>\n",
       "      <th>ID</th>\n",
       "      <th>Source</th>\n",
       "      <th>TMC</th>\n",
       "      <th>Severity</th>\n",
       "      <th>Start_Time</th>\n",
       "      <th>End_Time</th>\n",
       "      <th>Start_Lat</th>\n",
       "      <th>Start_Lng</th>\n",
       "      <th>End_Lat</th>\n",
       "      <th>End_Lng</th>\n",
       "      <th>...</th>\n",
       "      <th>Roundabout</th>\n",
       "      <th>Station</th>\n",
       "      <th>Stop</th>\n",
       "      <th>Traffic_Calming</th>\n",
       "      <th>Traffic_Signal</th>\n",
       "      <th>Turning_Loop</th>\n",
       "      <th>Sunrise_Sunset</th>\n",
       "      <th>Civil_Twilight</th>\n",
       "      <th>Nautical_Twilight</th>\n",
       "      <th>Astronomical_Twilight</th>\n",
       "    </tr>\n",
       "  </thead>\n",
       "  <tbody>\n",
       "    <tr>\n",
       "      <th>0</th>\n",
       "      <td>A-1</td>\n",
       "      <td>MapQuest</td>\n",
       "      <td>201.0</td>\n",
       "      <td>3</td>\n",
       "      <td>2016-02-08 05:46:00</td>\n",
       "      <td>2016-02-08 11:00:00</td>\n",
       "      <td>39.865147</td>\n",
       "      <td>-84.058723</td>\n",
       "      <td>NaN</td>\n",
       "      <td>NaN</td>\n",
       "      <td>...</td>\n",
       "      <td>0</td>\n",
       "      <td>0</td>\n",
       "      <td>0</td>\n",
       "      <td>0</td>\n",
       "      <td>0</td>\n",
       "      <td>0</td>\n",
       "      <td>Night</td>\n",
       "      <td>Night</td>\n",
       "      <td>Night</td>\n",
       "      <td>Night</td>\n",
       "    </tr>\n",
       "    <tr>\n",
       "      <th>1</th>\n",
       "      <td>A-2</td>\n",
       "      <td>MapQuest</td>\n",
       "      <td>201.0</td>\n",
       "      <td>2</td>\n",
       "      <td>2016-02-08 06:07:59</td>\n",
       "      <td>2016-02-08 06:37:59</td>\n",
       "      <td>39.928059</td>\n",
       "      <td>-82.831184</td>\n",
       "      <td>NaN</td>\n",
       "      <td>NaN</td>\n",
       "      <td>...</td>\n",
       "      <td>0</td>\n",
       "      <td>0</td>\n",
       "      <td>0</td>\n",
       "      <td>0</td>\n",
       "      <td>0</td>\n",
       "      <td>0</td>\n",
       "      <td>Night</td>\n",
       "      <td>Night</td>\n",
       "      <td>Night</td>\n",
       "      <td>Day</td>\n",
       "    </tr>\n",
       "    <tr>\n",
       "      <th>2</th>\n",
       "      <td>A-3</td>\n",
       "      <td>MapQuest</td>\n",
       "      <td>201.0</td>\n",
       "      <td>2</td>\n",
       "      <td>2016-02-08 06:49:27</td>\n",
       "      <td>2016-02-08 07:19:27</td>\n",
       "      <td>39.063148</td>\n",
       "      <td>-84.032608</td>\n",
       "      <td>NaN</td>\n",
       "      <td>NaN</td>\n",
       "      <td>...</td>\n",
       "      <td>0</td>\n",
       "      <td>0</td>\n",
       "      <td>0</td>\n",
       "      <td>0</td>\n",
       "      <td>1</td>\n",
       "      <td>0</td>\n",
       "      <td>Night</td>\n",
       "      <td>Night</td>\n",
       "      <td>Day</td>\n",
       "      <td>Day</td>\n",
       "    </tr>\n",
       "    <tr>\n",
       "      <th>3</th>\n",
       "      <td>A-4</td>\n",
       "      <td>MapQuest</td>\n",
       "      <td>201.0</td>\n",
       "      <td>3</td>\n",
       "      <td>2016-02-08 07:23:34</td>\n",
       "      <td>2016-02-08 07:53:34</td>\n",
       "      <td>39.747753</td>\n",
       "      <td>-84.205582</td>\n",
       "      <td>NaN</td>\n",
       "      <td>NaN</td>\n",
       "      <td>...</td>\n",
       "      <td>0</td>\n",
       "      <td>0</td>\n",
       "      <td>0</td>\n",
       "      <td>0</td>\n",
       "      <td>0</td>\n",
       "      <td>0</td>\n",
       "      <td>Night</td>\n",
       "      <td>Day</td>\n",
       "      <td>Day</td>\n",
       "      <td>Day</td>\n",
       "    </tr>\n",
       "    <tr>\n",
       "      <th>4</th>\n",
       "      <td>A-5</td>\n",
       "      <td>MapQuest</td>\n",
       "      <td>201.0</td>\n",
       "      <td>2</td>\n",
       "      <td>2016-02-08 07:39:07</td>\n",
       "      <td>2016-02-08 08:09:07</td>\n",
       "      <td>39.627781</td>\n",
       "      <td>-84.188354</td>\n",
       "      <td>NaN</td>\n",
       "      <td>NaN</td>\n",
       "      <td>...</td>\n",
       "      <td>0</td>\n",
       "      <td>0</td>\n",
       "      <td>0</td>\n",
       "      <td>0</td>\n",
       "      <td>1</td>\n",
       "      <td>0</td>\n",
       "      <td>Day</td>\n",
       "      <td>Day</td>\n",
       "      <td>Day</td>\n",
       "      <td>Day</td>\n",
       "    </tr>\n",
       "  </tbody>\n",
       "</table>\n",
       "<p>5 rows × 49 columns</p>\n",
       "</div>"
      ],
      "text/plain": [
       "    ID    Source    TMC  Severity           Start_Time             End_Time  \\\n",
       "0  A-1  MapQuest  201.0         3  2016-02-08 05:46:00  2016-02-08 11:00:00   \n",
       "1  A-2  MapQuest  201.0         2  2016-02-08 06:07:59  2016-02-08 06:37:59   \n",
       "2  A-3  MapQuest  201.0         2  2016-02-08 06:49:27  2016-02-08 07:19:27   \n",
       "3  A-4  MapQuest  201.0         3  2016-02-08 07:23:34  2016-02-08 07:53:34   \n",
       "4  A-5  MapQuest  201.0         2  2016-02-08 07:39:07  2016-02-08 08:09:07   \n",
       "\n",
       "   Start_Lat  Start_Lng  End_Lat  End_Lng  ...  Roundabout Station  Stop  \\\n",
       "0  39.865147 -84.058723      NaN      NaN  ...           0       0     0   \n",
       "1  39.928059 -82.831184      NaN      NaN  ...           0       0     0   \n",
       "2  39.063148 -84.032608      NaN      NaN  ...           0       0     0   \n",
       "3  39.747753 -84.205582      NaN      NaN  ...           0       0     0   \n",
       "4  39.627781 -84.188354      NaN      NaN  ...           0       0     0   \n",
       "\n",
       "  Traffic_Calming Traffic_Signal Turning_Loop Sunrise_Sunset Civil_Twilight  \\\n",
       "0               0              0            0          Night          Night   \n",
       "1               0              0            0          Night          Night   \n",
       "2               0              1            0          Night          Night   \n",
       "3               0              0            0          Night            Day   \n",
       "4               0              1            0            Day            Day   \n",
       "\n",
       "  Nautical_Twilight Astronomical_Twilight  \n",
       "0             Night                 Night  \n",
       "1             Night                   Day  \n",
       "2               Day                   Day  \n",
       "3               Day                   Day  \n",
       "4               Day                   Day  \n",
       "\n",
       "[5 rows x 49 columns]"
      ]
     },
     "execution_count": 13,
     "metadata": {},
     "output_type": "execute_result"
    }
   ],
   "source": [
    "Acc_df.head()"
   ]
  },
  {
   "cell_type": "code",
   "execution_count": null,
   "metadata": {
    "id": "G_gtZ8d3I7ll"
   },
   "outputs": [],
   "source": []
  },
  {
   "cell_type": "code",
   "execution_count": 16,
   "metadata": {
    "id": "OKkCASlwI7tH"
   },
   "outputs": [
    {
     "data": {
      "text/plain": [
       "ID                       0\n",
       "Source                   0\n",
       "TMC                      0\n",
       "Severity                 0\n",
       "Start_Time               0\n",
       "End_Time                 0\n",
       "Start_Lat                0\n",
       "Start_Lng                0\n",
       "Distance(mi)             0\n",
       "Description              0\n",
       "Street                   0\n",
       "Side                     0\n",
       "City                     0\n",
       "County                   0\n",
       "State                    0\n",
       "Zipcode                  0\n",
       "Country                  0\n",
       "Timezone                 0\n",
       "Airport_Code             0\n",
       "Weather_Timestamp        0\n",
       "Temperature(F)           0\n",
       "Humidity(%)              0\n",
       "Pressure(in)             0\n",
       "Visibility(mi)           0\n",
       "Wind_Direction           0\n",
       "Wind_Speed(mph)          0\n",
       "Weather_Condition        0\n",
       "Amenity                  0\n",
       "Bump                     0\n",
       "Crossing                 0\n",
       "Give_Way                 0\n",
       "Junction                 0\n",
       "No_Exit                  0\n",
       "Railway                  0\n",
       "Roundabout               0\n",
       "Station                  0\n",
       "Stop                     0\n",
       "Traffic_Calming          0\n",
       "Traffic_Signal           0\n",
       "Turning_Loop             0\n",
       "Sunrise_Sunset           0\n",
       "Civil_Twilight           0\n",
       "Nautical_Twilight        0\n",
       "Astronomical_Twilight    0\n",
       "dtype: int64"
      ]
     },
     "execution_count": 16,
     "metadata": {},
     "output_type": "execute_result"
    }
   ],
   "source": [
    "df = pd.DataFrame(Acc_df)\n",
    "df.drop(['End_Lat', 'End_Lng', 'Number', 'Wind_Chill(F)','Precipitation(in)'], axis=1, inplace=True)\n",
    "df.dropna(axis=0)\n",
    "df.head()\n",
    "\n",
    "df.columns\n",
    "\n",
    "df.shape\n",
    "\n",
    "df.isna().sum()\n",
    "\n",
    "df =df.dropna(axis=0)\n",
    "\n",
    "df.isna().sum()"
   ]
  },
  {
   "cell_type": "code",
   "execution_count": 21,
   "metadata": {
    "id": "noXnVrwyI7yc"
   },
   "outputs": [
    {
     "data": {
      "text/plain": [
       "Index(['ID', 'Source', 'TMC', 'Severity', 'Start_Time', 'End_Time',\n",
       "       'Start_Lat', 'Start_Lng', 'Distance(mi)', 'Description', 'Street',\n",
       "       'Side', 'City', 'County', 'State', 'Zipcode', 'Country', 'Timezone',\n",
       "       'Airport_Code', 'Weather_Timestamp', 'Temperature(F)', 'Humidity(%)',\n",
       "       'Pressure(in)', 'Visibility(mi)', 'Wind_Direction', 'Wind_Speed(mph)',\n",
       "       'Weather_Condition', 'Amenity', 'Bump', 'Crossing', 'Give_Way',\n",
       "       'Junction', 'No_Exit', 'Railway', 'Roundabout', 'Station', 'Stop',\n",
       "       'Traffic_Calming', 'Traffic_Signal', 'Turning_Loop', 'Sunrise_Sunset',\n",
       "       'Civil_Twilight', 'Nautical_Twilight', 'Astronomical_Twilight', 'hour',\n",
       "       'year', 'month', 'week', 'day', 'quarter', 'time_zone', 'time'],\n",
       "      dtype='object')"
      ]
     },
     "execution_count": 21,
     "metadata": {},
     "output_type": "execute_result"
    }
   ],
   "source": [
    "df['Start_Time']= pd.to_datetime(df['Start_Time'])\n",
    "df['hour']= df['Start_Time'].dt.hour\n",
    "df['year']= df['Start_Time'].dt.year\n",
    "df['month']= df['Start_Time'].dt.month\n",
    "df['week']= df['Start_Time'].dt.week\n",
    "df['day']= df['Start_Time'].dt.weekday_name\n",
    "df['quarter']= df['Start_Time'].dt.quarter\n",
    "df['time_zone']= df['Start_Time'].dt.tz\n",
    "df['time']= df['Start_Time'].dt.time\n",
    "\n",
    "df.columns"
   ]
  },
  {
   "cell_type": "code",
   "execution_count": 22,
   "metadata": {
    "id": "LkWRq7kGI76c"
   },
   "outputs": [
    {
     "data": {
      "image/png": "[encoded data removed]",
      "text/plain": [
       "<Figure size 720x432 with 1 Axes>"
      ]
     },
     "metadata": {
      "needs_background": "light"
     },
     "output_type": "display_data"
    },
    {
     "data": {
      "image/png": "[encoded data removed]",
      "text/plain": [
       "<Figure size 1080x360 with 1 Axes>"
      ]
     },
     "metadata": {
      "needs_background": "light"
     },
     "output_type": "display_data"
    },
    {
     "data": {
      "image/png": "[encoded data removed]",
      "text/plain": [
       "<Figure size 1080x360 with 1 Axes>"
      ]
     },
     "metadata": {
      "needs_background": "light"
     },
     "output_type": "display_data"
    },
    {
     "data": {
      "image/png": "[encoded data removed]",
      "text/plain": [
       "<Figure size 720x360 with 1 Axes>"
      ]
     },
     "metadata": {
      "needs_background": "light"
     },
     "output_type": "display_data"
    },
    {
     "data": {
      "image/png": "[encoded data removed]",
      "text/plain": [
       "<Figure size 720x360 with 1 Axes>"
      ]
     },
     "metadata": {
      "needs_background": "light"
     },
     "output_type": "display_data"
    },
    {
     "data": {
      "image/png": "[encoded data removed]",
      "text/plain": [
       "<Figure size 720x360 with 1 Axes>"
      ]
     },
     "metadata": {
      "needs_background": "light"
     },
     "output_type": "display_data"
    }
   ],
   "source": [
    "plt.figure(figsize =(10,6))\n",
    "df.groupby(['year']).size().plot.bar()\n",
    "\n",
    "df['month'].unique()\n",
    "\n",
    "plt.figure(figsize =(15,5))\n",
    "df.groupby(['month']).size().plot.bar()\n",
    "\n",
    "plt.figure(figsize =(15,5))\n",
    "df.groupby(['year', 'month']).size().plot.bar()\n",
    "plt.title('Number of accidents/year')\n",
    "plt.ylabel('number of accidents')\n",
    "\n",
    "plt.figure(figsize=(10,5))\n",
    "df.groupby(['year','day']).size().plot.bar()\n",
    "\n",
    "plt.figure(figsize =(10,5))\n",
    "df.groupby(['hour']).size().plot.bar()\n",
    "plt.title('At which hour of day accidents happen')\n",
    "plt.ylabel('count of accidents')\n",
    "\n",
    "df['day_zone'] = pd.cut((df['hour']),bins=(0,6,12,18,24), labels=[\"night\", \"morning\", \"afternoon\", \"evening\"])\n",
    "plt.figure(figsize =(10,5))\n",
    "df.groupby(['day_zone']).size().plot.bar()\n",
    "\n",
    "\n",
    "states=df.State.unique()"
   ]
  },
  {
   "cell_type": "code",
   "execution_count": 23,
   "metadata": {
    "id": "wklmxuOyI8Kf"
   },
   "outputs": [],
   "source": [
    "count_by_state=[]\n",
    "for i in df.State.unique():\n",
    "    count_by_state.append(df[df['State']==i].count()['ID'])\n",
    "    "
   ]
  },
  {
   "cell_type": "code",
   "execution_count": 24,
   "metadata": {
    "id": "IPBY2tLLI8Ng"
   },
   "outputs": [
    {
     "data": {
      "text/plain": [
       "<matplotlib.axes._subplots.AxesSubplot at 0x7f9c74853748>"
      ]
     },
     "execution_count": 24,
     "metadata": {},
     "output_type": "execute_result"
    },
    {
     "data": {
      "image/png": "[encoded data removed]",
      "text/plain": [
       "<Figure size 1152x720 with 1 Axes>"
      ]
     },
     "metadata": {
      "needs_background": "light"
     },
     "output_type": "display_data"
    }
   ],
   "source": [
    "plt.figure(figsize=(16,10))\n",
    "sns.barplot(states, count_by_state)"
   ]
  },
  {
   "cell_type": "code",
   "execution_count": 25,
   "metadata": {
    "id": "LSVnc3YBI8QU"
   },
   "outputs": [
    {
     "data": {
      "image/png": "[encoded data removed]",
      "text/plain": [
       "<Figure size 1296x1080 with 2 Axes>"
      ]
     },
     "metadata": {
      "needs_background": "light"
     },
     "output_type": "display_data"
    }
   ],
   "source": [
    "Severity_1_data = df[df['Severity']==1]['Temperature(F)'].mean()\n",
    "Severity_2_data = df[df['Severity']==2]['Temperature(F)'].mean()\n",
    "Severity_3_data = df[df['Severity']==3]['Temperature(F)'].mean()\n",
    "Severity_4_data = df[df['Severity']==4]['Temperature(F)'].mean()\n",
    "Severity_labels = ['Severity 1', 'Severity 2', 'Severity 3', 'Severity 4']\n",
    "\n",
    "Mean_temp_by_severity = [Severity_1_data, Severity_2_data, Severity_3_data, Severity_4_data]\n",
    "\n",
    "plt.figure(figsize=(16, 6))\n",
    "sns.barplot(Severity_labels, Mean_temp_by_severity)\n",
    "plt.grid(color='black', linestyle='-', linewidth=1, alpha=0.3)\n",
    "\n",
    "df.shape\n",
    "\n",
    "fig=sns.heatmap(df[['TMC','Severity','Start_Lat','Distance(mi)','Temperature(F)','Humidity(%)','Pressure(in)','Visibility(mi)','Wind_Speed(mph)']].corr(),annot=True,cmap='RdYlGn',linewidths=0.2,annot_kws={'size':15})\n",
    "fig=plt.gcf()\n",
    "fig.set_size_inches(18,15)\n",
    "plt.xticks(fontsize=14)\n",
    "plt.yticks(fontsize=14)\n",
    "plt.show()"
   ]
  },
  {
   "cell_type": "code",
   "execution_count": null,
   "metadata": {
    "id": "XZSlfRX1I8XA"
   },
   "outputs": [
    {
     "name": "stdout",
     "output_type": "stream",
     "text": [
      "top 20 accident durations correspond to 84.8% of the data\n"
     ]
    },
    {
     "data": {
      "image/png": "[encoded data removed]",
      "text/plain": [
       "<Figure size 576x576 with 2 Axes>"
      ]
     },
     "metadata": {
      "needs_background": "light"
     },
     "output_type": "display_data"
    },
    {
     "data": {
      "image/png": "[encoded data removed]",
      "text/plain": [
       "<Figure size 1440x504 with 1 Axes>"
      ]
     },
     "metadata": {
      "needs_background": "light"
     },
     "output_type": "display_data"
    },
    {
     "ename": "ModuleNotFoundError",
     "evalue": "No module named 'plotly'",
     "output_type": "error",
     "traceback": [
      "\u001b[0;31m---------------------------------------------------------------------------\u001b[0m",
      "\u001b[0;31mModuleNotFoundError\u001b[0m                       Traceback (most recent call last)",
      "\u001b[0;32m<ipython-input-26-8b16b83f0532>\u001b[0m in \u001b[0;36m<module>\u001b[0;34m\u001b[0m\n\u001b[1;32m     25\u001b[0m \u001b[0mplt\u001b[0m\u001b[0;34m.\u001b[0m\u001b[0mioff\u001b[0m\u001b[0;34m(\u001b[0m\u001b[0;34m)\u001b[0m\u001b[0;34m\u001b[0m\u001b[0;34m\u001b[0m\u001b[0m\n\u001b[1;32m     26\u001b[0m \u001b[0;34m\u001b[0m\u001b[0m\n\u001b[0;32m---> 27\u001b[0;31m \u001b[0;32mimport\u001b[0m \u001b[0mplotly\u001b[0m\u001b[0;34m.\u001b[0m\u001b[0mgraph_objects\u001b[0m \u001b[0;32mas\u001b[0m \u001b[0mgo\u001b[0m\u001b[0;34m\u001b[0m\u001b[0;34m\u001b[0m\u001b[0m\n\u001b[0m\u001b[1;32m     28\u001b[0m \u001b[0mstate_count_acc\u001b[0m \u001b[0;34m=\u001b[0m \u001b[0mpd\u001b[0m\u001b[0;34m.\u001b[0m\u001b[0mvalue_counts\u001b[0m\u001b[0;34m(\u001b[0m\u001b[0mAcc_df\u001b[0m\u001b[0;34m[\u001b[0m\u001b[0;34m'State'\u001b[0m\u001b[0;34m]\u001b[0m\u001b[0;34m)\u001b[0m\u001b[0;34m\u001b[0m\u001b[0;34m\u001b[0m\u001b[0m\n\u001b[1;32m     29\u001b[0m \u001b[0;34m\u001b[0m\u001b[0m\n",
      "\u001b[0;31mModuleNotFoundError\u001b[0m: No module named 'plotly'"
     ]
    },
    {
     "data": {
      "text/plain": [
       "<Figure size 1008x576 with 0 Axes>"
      ]
     },
     "metadata": {},
     "output_type": "display_data"
    }
   ],
   "source": [
    "df.plot(kind=\"scatter\", x=\"Start_Lat\", y=\"Start_Lng\", alpha=0.4, figsize=(10,7), \n",
    "       c=\"Severity\", cmap=\"gist_heat_r\", colorbar=True, sharex=False);\n",
    "\n",
    "st = pd.to_datetime(df.Start_Time, format='%Y-%m-%d %H:%M:%S')\n",
    "end = pd.to_datetime(df.End_Time, format='%Y-%m-%d %H:%M:%S')\n",
    "\n",
    "\n",
    "diff = (end-st)\n",
    "top20 = diff.astype('timedelta64[m]').value_counts().nlargest(20)\n",
    "print('top 20 accident durations correspond to {:.1f}% of the data'.format(top20.sum()*100/len(diff)))\n",
    "(top20/top20.sum()).plot.bar(figsize=(8,8))\n",
    "plt.title('Accident Duration [Minutes]')\n",
    "plt.xlabel('Duration [minutes]')\n",
    "plt.ylabel('Fraction');\n",
    "\n",
    "sns.catplot('State','Severity',data=df)\n",
    "fig=plt.gcf()\n",
    "fig.set_size_inches(20,7)\n",
    "plt.show()\n",
    "\n",
    "plt.figure(figsize=(14,8))\n",
    "sub_6=df[df.Severity<5]\n",
    "viz_4=sub_6.plot(kind='scatter', x='Start_Lng',y='Start_Lat',label='Severity',c='Severity',cmap=plt.get_cmap('jet'),colorbar=True,alpha=0.4,figsize=(10,10))\n",
    "viz_4.legend()\n",
    "plt.ioff()\n",
    "\n",
    "import plotly.graph_objects as go\n",
    "state_count_acc = pd.value_counts(Acc_df['State'])\n",
    "\n",
    "fig = go.Figure(Acc_df=go.Choropleth(\n",
    "   locations=state_count_acc.index,\n",
    "   z = state_count_acc.values.astype(float),\n",
    "   locationmode = 'USA-states',\n",
    "   colorscale = 'Reds',\n",
    "   colorbar_title = \"Count Accidents\",\n",
    "))\n",
    "\n",
    "fig.update_layout(\n",
    "   title_text = '2016 - 2019 US Traffic Accident Dataset by State',\n",
    "   geo_scope='usa',\n",
    ")\n",
    "\n",
    "fig.show()"
   ]
  },
  {
   "cell_type": "code",
   "execution_count": null,
   "metadata": {
    "id": "kkrkZAjzI8bo"
   },
   "outputs": [],
   "source": [
    "df.isna().sum()"
   ]
  },
  {
   "cell_type": "code",
   "execution_count": null,
   "metadata": {
    "id": "C2H-4tA9I8h1"
   },
   "outputs": [],
   "source": [
    "#######################  SPLIT DF INTO TRAIN AND TEST DATASETS  ##############################"
   ]
  },
  {
   "cell_type": "code",
   "execution_count": null,
   "metadata": {
    "id": "QdyDyX2yI8mw"
   },
   "outputs": [],
   "source": [
    "df['time'].unique()\n",
    "\n",
    "df.shape\n",
    "\n",
    "df_sample = df.sample(frac=.02, random_state=3)               # 2% sample\n",
    "\n",
    "df_sample.shape\n",
    "\n",
    "df_sample.columns\n",
    "\n",
    "df_sample = df_sample.drop(columns=['Civil_Twilight', 'Nautical_Twilight', 'Astronomical_Twilight', 'time_zone', 'quarter', 'year', 'month', 'week', 'day', 'hour','Description', 'Street',\n",
    "       'Side', 'City', 'County', 'State', 'Zipcode', 'Country', 'Timezone', 'Airport_Code', 'Weather_Timestamp','Start_Time', 'End_Time',\n",
    "       'Start_Lat', 'Start_Lng','Source', 'ID', 'time', 'Turning_Loop', 'Wind_Direction'])\n",
    "\n",
    "\n",
    "df_sample.info()\n",
    "\n",
    "df_sample.shape"
   ]
  },
  {
   "cell_type": "code",
   "execution_count": null,
   "metadata": {
    "id": "4sXlouf7I8sj"
   },
   "outputs": [],
   "source": [
    "sns.pairplot(df_sample,hue='Severity',palette='coolwarm')"
   ]
  },
  {
   "cell_type": "code",
   "execution_count": null,
   "metadata": {
    "id": "cqnKpvyxI8xX"
   },
   "outputs": [],
   "source": [
    "df_sample.columns"
   ]
  },
  {
   "cell_type": "code",
   "execution_count": null,
   "metadata": {
    "id": "N6SvKH6II87a"
   },
   "outputs": [],
   "source": [
    "sns.pairplot(df_sample1,hue='Severity',palette='coolwarm')"
   ]
  },
  {
   "cell_type": "code",
   "execution_count": null,
   "metadata": {
    "id": "qSvNjb9gI9Cn"
   },
   "outputs": [],
   "source": [
    "df_sample.info()\n",
    "\n",
    "df_sample.head()\n",
    "\n",
    "\n",
    "\n",
    "df_sample['Amenity'] = df_sample['Amenity'].map({'1':1, '0':0})\n",
    "df_sample['Bump'] = df_sample['Bump'].map({'1':1, '0':0})\n",
    "df_sample['Crossing'] = df_sample['Crossing'].map({'1':1, '0':0})\n",
    "df_sample['Give_Way'] = df_sample['Give_Way'].map({'1':1, '0':0})\n",
    "df_sample['Junction'] = df_sample['Junction'].map({'1':1, '0':0})\n",
    "df_sample['No_Exit'] = df_sample['No_Exit'].map({'1':1, '0':0})\n",
    "df_sample['Railway'] = df_sample['Railway'].map({'1':1, '0':0})\n",
    "df_sample['Roundabout'] = df_sample['Roundabout'].map({'1':1, '0':0})\n",
    "df_sample['Station'] = df_sample['Station'].map({'1':1, '0':0})\n",
    "df_sample['Stop'] = df_sample['Stop'].map({'1':1, '0':0})\n",
    "df_sample['Traffic_Calming'] = df_sample['Traffic_Calming'].map({'1':1, '0':0})\n",
    "df_sample['Traffic_Signal'] = df_sample['Traffic_Signal'].map({'1':1, '0':0})\n",
    "df_sample['Sunrise_Sunset'] = df_sample['Sunrise_Sunset'].map({'Night':1, 'Day':0})\n",
    "\n",
    "#df_sample = pd.get_dummies(df_sample, columns=['Sunrise_Sunset'])\n",
    "\n",
    "\n",
    "df_sample.info()\n",
    "\n",
    "df_sample.groupby(['Weather_Condition']).size()"
   ]
  },
  {
   "cell_type": "code",
   "execution_count": null,
   "metadata": {
    "id": "QX_XGU_JI9Gy"
   },
   "outputs": [],
   "source": [
    "df_sample = df_sample.drop(columns=['Weather_Condition'])\n",
    "\n",
    "df_sample.info()"
   ]
  },
  {
   "cell_type": "code",
   "execution_count": null,
   "metadata": {
    "id": "A-Tai34SI9Au"
   },
   "outputs": [],
   "source": [
    "df_sample.to_csv('US_Accidents_sample.csv')\n",
    "\n",
    "df_sample = pd.read_csv(\"US_Accidents_sample.csv\")\n",
    "df_sample = df_sample.drop(df_sample.columns[[0]],axis=1)\n",
    "\n",
    "df_sample.head()"
   ]
  },
  {
   "cell_type": "code",
   "execution_count": null,
   "metadata": {
    "id": "EFPb4RgOI8-Y"
   },
   "outputs": [],
   "source": [
    "df_sample.columns"
   ]
  },
  {
   "cell_type": "code",
   "execution_count": null,
   "metadata": {
    "id": "URJILrqlqca2"
   },
   "outputs": [],
   "source": [
    "#import packages\n",
    "import datetime\n",
    "import numpy as np\n",
    "import pandas as pd\n",
    "import seaborn as sns\n",
    "import matplotlib.pyplot as plt\n",
    "from sklearn.neighbors import KNeighborsClassifier\n",
    "from sklearn.metrics import f1_score\n",
    "from sklearn.model_selection import GridSearchCV\n",
    "%matplotlib inline"
   ]
  },
  {
   "cell_type": "code",
   "execution_count": null,
   "metadata": {
    "id": "6rIWMFjeqca-"
   },
   "outputs": [],
   "source": [
    "df_sample = pd.read_csv(\"US_Accidents_sample.csv\")\n",
    "df_sample = df_sample.drop(df_sample.columns[[0]],axis=1)"
   ]
  },
  {
   "cell_type": "code",
   "execution_count": 5,
   "metadata": {
    "colab": {
     "base_uri": "https://localhost:8080/",
     "height": 215
    },
    "id": "4wLmKeb9qcbD",
    "outputId": "a400699b-3a12-447f-c6fc-938e227274a8"
   },
   "outputs": [
    {
     "data": {
      "text/html": [
       "<div>\n",
       "<style scoped>\n",
       "    .dataframe tbody tr th:only-of-type {\n",
       "        vertical-align: middle;\n",
       "    }\n",
       "\n",
       "    .dataframe tbody tr th {\n",
       "        vertical-align: top;\n",
       "    }\n",
       "\n",
       "    .dataframe thead th {\n",
       "        text-align: right;\n",
       "    }\n",
       "</style>\n",
       "<table border=\"1\" class=\"dataframe\">\n",
       "  <thead>\n",
       "    <tr style=\"text-align: right;\">\n",
       "      <th></th>\n",
       "      <th>TMC</th>\n",
       "      <th>Severity</th>\n",
       "      <th>Distance(mi)</th>\n",
       "      <th>Temperature(F)</th>\n",
       "      <th>Humidity(%)</th>\n",
       "      <th>Pressure(in)</th>\n",
       "      <th>Visibility(mi)</th>\n",
       "      <th>Wind_Speed(mph)</th>\n",
       "      <th>Amenity</th>\n",
       "      <th>Bump</th>\n",
       "      <th>Crossing</th>\n",
       "      <th>Give_Way</th>\n",
       "      <th>Junction</th>\n",
       "      <th>No_Exit</th>\n",
       "      <th>Railway</th>\n",
       "      <th>Roundabout</th>\n",
       "      <th>Station</th>\n",
       "      <th>Stop</th>\n",
       "      <th>Traffic_Calming</th>\n",
       "      <th>Traffic_Signal</th>\n",
       "      <th>Sunrise_Sunset</th>\n",
       "    </tr>\n",
       "  </thead>\n",
       "  <tbody>\n",
       "    <tr>\n",
       "      <th>0</th>\n",
       "      <td>201.0</td>\n",
       "      <td>2</td>\n",
       "      <td>0.00</td>\n",
       "      <td>84.0</td>\n",
       "      <td>21.0</td>\n",
       "      <td>28.50</td>\n",
       "      <td>10.0</td>\n",
       "      <td>9.0</td>\n",
       "      <td>0</td>\n",
       "      <td>0</td>\n",
       "      <td>0</td>\n",
       "      <td>0</td>\n",
       "      <td>0</td>\n",
       "      <td>0</td>\n",
       "      <td>0</td>\n",
       "      <td>0</td>\n",
       "      <td>0</td>\n",
       "      <td>0</td>\n",
       "      <td>0</td>\n",
       "      <td>0</td>\n",
       "      <td>1</td>\n",
       "    </tr>\n",
       "    <tr>\n",
       "      <th>1</th>\n",
       "      <td>201.0</td>\n",
       "      <td>3</td>\n",
       "      <td>12.87</td>\n",
       "      <td>73.4</td>\n",
       "      <td>83.0</td>\n",
       "      <td>30.18</td>\n",
       "      <td>10.0</td>\n",
       "      <td>5.8</td>\n",
       "      <td>0</td>\n",
       "      <td>0</td>\n",
       "      <td>0</td>\n",
       "      <td>0</td>\n",
       "      <td>1</td>\n",
       "      <td>0</td>\n",
       "      <td>0</td>\n",
       "      <td>0</td>\n",
       "      <td>0</td>\n",
       "      <td>0</td>\n",
       "      <td>0</td>\n",
       "      <td>0</td>\n",
       "      <td>0</td>\n",
       "    </tr>\n",
       "    <tr>\n",
       "      <th>2</th>\n",
       "      <td>241.0</td>\n",
       "      <td>2</td>\n",
       "      <td>0.00</td>\n",
       "      <td>81.0</td>\n",
       "      <td>69.0</td>\n",
       "      <td>30.16</td>\n",
       "      <td>10.0</td>\n",
       "      <td>16.0</td>\n",
       "      <td>0</td>\n",
       "      <td>0</td>\n",
       "      <td>1</td>\n",
       "      <td>0</td>\n",
       "      <td>0</td>\n",
       "      <td>0</td>\n",
       "      <td>0</td>\n",
       "      <td>0</td>\n",
       "      <td>0</td>\n",
       "      <td>0</td>\n",
       "      <td>0</td>\n",
       "      <td>1</td>\n",
       "      <td>0</td>\n",
       "    </tr>\n",
       "    <tr>\n",
       "      <th>3</th>\n",
       "      <td>201.0</td>\n",
       "      <td>2</td>\n",
       "      <td>0.00</td>\n",
       "      <td>84.9</td>\n",
       "      <td>69.0</td>\n",
       "      <td>29.99</td>\n",
       "      <td>10.0</td>\n",
       "      <td>4.6</td>\n",
       "      <td>0</td>\n",
       "      <td>0</td>\n",
       "      <td>0</td>\n",
       "      <td>0</td>\n",
       "      <td>0</td>\n",
       "      <td>0</td>\n",
       "      <td>0</td>\n",
       "      <td>0</td>\n",
       "      <td>0</td>\n",
       "      <td>0</td>\n",
       "      <td>0</td>\n",
       "      <td>0</td>\n",
       "      <td>0</td>\n",
       "    </tr>\n",
       "    <tr>\n",
       "      <th>4</th>\n",
       "      <td>201.0</td>\n",
       "      <td>2</td>\n",
       "      <td>0.01</td>\n",
       "      <td>24.1</td>\n",
       "      <td>65.0</td>\n",
       "      <td>30.51</td>\n",
       "      <td>10.0</td>\n",
       "      <td>11.5</td>\n",
       "      <td>0</td>\n",
       "      <td>0</td>\n",
       "      <td>0</td>\n",
       "      <td>0</td>\n",
       "      <td>0</td>\n",
       "      <td>0</td>\n",
       "      <td>0</td>\n",
       "      <td>0</td>\n",
       "      <td>0</td>\n",
       "      <td>0</td>\n",
       "      <td>0</td>\n",
       "      <td>1</td>\n",
       "      <td>0</td>\n",
       "    </tr>\n",
       "  </tbody>\n",
       "</table>\n",
       "</div>"
      ],
      "text/plain": [
       "     TMC  Severity  ...  Traffic_Signal  Sunrise_Sunset\n",
       "0  201.0         2  ...               0               1\n",
       "1  201.0         3  ...               0               0\n",
       "2  241.0         2  ...               1               0\n",
       "3  201.0         2  ...               0               0\n",
       "4  201.0         2  ...               1               0\n",
       "\n",
       "[5 rows x 21 columns]"
      ]
     },
     "execution_count": 5,
     "metadata": {
      "tags": []
     },
     "output_type": "execute_result"
    }
   ],
   "source": [
    "df_sample.head()"
   ]
  },
  {
   "cell_type": "code",
   "execution_count": 6,
   "metadata": {
    "colab": {
     "base_uri": "https://localhost:8080/",
     "height": 118
    },
    "id": "U43ZP52nqcbJ",
    "outputId": "2ecc8503-16f0-474c-d3a7-9f5eddb3dd04"
   },
   "outputs": [
    {
     "data": {
      "text/plain": [
       "Index(['TMC', 'Severity', 'Distance(mi)', 'Temperature(F)', 'Humidity(%)',\n",
       "       'Pressure(in)', 'Visibility(mi)', 'Wind_Speed(mph)', 'Amenity', 'Bump',\n",
       "       'Crossing', 'Give_Way', 'Junction', 'No_Exit', 'Railway', 'Roundabout',\n",
       "       'Station', 'Stop', 'Traffic_Calming', 'Traffic_Signal',\n",
       "       'Sunrise_Sunset'],\n",
       "      dtype='object')"
      ]
     },
     "execution_count": 6,
     "metadata": {
      "tags": []
     },
     "output_type": "execute_result"
    }
   ],
   "source": [
    "df_sample.columns"
   ]
  },
  {
   "cell_type": "code",
   "execution_count": 7,
   "metadata": {
    "id": "cfYkc6omlnfJ"
   },
   "outputs": [],
   "source": [
    "df_sample = df_sample.sample(frac = 0.15, random_state = 3)"
   ]
  },
  {
   "cell_type": "code",
   "execution_count": null,
   "metadata": {
    "id": "aDR_NioYqcbc"
   },
   "outputs": [],
   "source": [
    "########################### Regression data prep ########################################"
   ]
  },
  {
   "cell_type": "code",
   "execution_count": 8,
   "metadata": {
    "id": "wbXoArHyqcbi"
   },
   "outputs": [],
   "source": [
    "import numpy as np\n",
    "import pandas as pd\n",
    "import seaborn as sns\n",
    "import matplotlib.pyplot as plt\n",
    "%matplotlib inline\n",
    "from sklearn.model_selection import train_test_split\n",
    "from sklearn.preprocessing import StandardScaler\n",
    "from sklearn.neighbors import KNeighborsClassifier\n",
    "from sklearn.linear_model import LogisticRegression\n",
    "from sklearn.svm import LinearSVC\n",
    "from sklearn import svm\n",
    "from sklearn.svm import SVC\n",
    "from sklearn.tree import DecisionTreeClassifier\n",
    "from sklearn.metrics import classification_report, confusion_matrix\n",
    "from sklearn.model_selection import GridSearchCV\n",
    "from sklearn.model_selection import cross_val_score\n",
    "from sklearn.model_selection import KFold\n",
    "from sklearn.metrics import f1_score\n",
    "from sklearn.ensemble import VotingClassifier\n",
    "from sklearn.naive_bayes import GaussianNB\n",
    "from sklearn.preprocessing import MinMaxScaler\n",
    "from sklearn.metrics import accuracy_score\n",
    "from sklearn.ensemble import BaggingClassifier\n",
    "from sklearn.ensemble import AdaBoostClassifier\n",
    "from sklearn.ensemble import GradientBoostingClassifier\n",
    "from sklearn.decomposition import PCA\n",
    "\n"
   ]
  },
  {
   "cell_type": "code",
   "execution_count": 9,
   "metadata": {
    "id": "zZL9dxv1uzPh"
   },
   "outputs": [],
   "source": [
    "# import warnings filter\n",
    "from warnings import simplefilter\n",
    "# ignore all future warnings\n",
    "simplefilter(action='ignore', category=FutureWarning)"
   ]
  },
  {
   "cell_type": "code",
   "execution_count": 10,
   "metadata": {
    "id": "9CaskMnSqcbl"
   },
   "outputs": [],
   "source": [
    "# split sample data\n",
    "train , test = train_test_split(df_sample, test_size = 0.3)\n",
    "# create train data\n",
    "X_train = train.drop('Severity', axis=1)\n",
    "y_train = train['Severity']\n",
    "# create test data\n",
    "X_test = test.drop('Severity', axis = 1)\n",
    "y_test = test['Severity']\n",
    "# create x,y\n",
    "Xs = df_sample.drop('Severity', axis=1)\n",
    "Ys = df_sample['Severity']"
   ]
  },
  {
   "cell_type": "code",
   "execution_count": 11,
   "metadata": {
    "colab": {
     "base_uri": "https://localhost:8080/",
     "height": 34
    },
    "id": "3EEMTUDuqcbr",
    "outputId": "2ef35c99-4b71-4195-d547-d048be67ad18"
   },
   "outputs": [
    {
     "data": {
      "text/plain": [
       "(4438, 21)"
      ]
     },
     "execution_count": 11,
     "metadata": {
      "tags": []
     },
     "output_type": "execute_result"
    }
   ],
   "source": [
    "train.shape"
   ]
  },
  {
   "cell_type": "code",
   "execution_count": 12,
   "metadata": {
    "colab": {
     "base_uri": "https://localhost:8080/",
     "height": 34
    },
    "id": "DHWlrC3Zqcbv",
    "outputId": "fd4e70eb-2668-4ff8-86ef-75dbb0c8163f"
   },
   "outputs": [
    {
     "data": {
      "text/plain": [
       "(1903, 21)"
      ]
     },
     "execution_count": 12,
     "metadata": {
      "tags": []
     },
     "output_type": "execute_result"
    }
   ],
   "source": [
    "test.shape"
   ]
  },
  {
   "cell_type": "code",
   "execution_count": 13,
   "metadata": {
    "colab": {
     "base_uri": "https://localhost:8080/",
     "height": 487
    },
    "id": "ORfDbMCIqcby",
    "outputId": "24f1796a-1162-41e4-b931-b2a1a55d9a00"
   },
   "outputs": [
    {
     "name": "stdout",
     "output_type": "stream",
     "text": [
      "<class 'pandas.core.frame.DataFrame'>\n",
      "Int64Index: 4438 entries, 5405 to 13858\n",
      "Data columns (total 21 columns):\n",
      " #   Column           Non-Null Count  Dtype  \n",
      "---  ------           --------------  -----  \n",
      " 0   TMC              4438 non-null   float64\n",
      " 1   Severity         4438 non-null   int64  \n",
      " 2   Distance(mi)     4438 non-null   float64\n",
      " 3   Temperature(F)   4438 non-null   float64\n",
      " 4   Humidity(%)      4438 non-null   float64\n",
      " 5   Pressure(in)     4438 non-null   float64\n",
      " 6   Visibility(mi)   4438 non-null   float64\n",
      " 7   Wind_Speed(mph)  4438 non-null   float64\n",
      " 8   Amenity          4438 non-null   int64  \n",
      " 9   Bump             4438 non-null   int64  \n",
      " 10  Crossing         4438 non-null   int64  \n",
      " 11  Give_Way         4438 non-null   int64  \n",
      " 12  Junction         4438 non-null   int64  \n",
      " 13  No_Exit          4438 non-null   int64  \n",
      " 14  Railway          4438 non-null   int64  \n",
      " 15  Roundabout       4438 non-null   int64  \n",
      " 16  Station          4438 non-null   int64  \n",
      " 17  Stop             4438 non-null   int64  \n",
      " 18  Traffic_Calming  4438 non-null   int64  \n",
      " 19  Traffic_Signal   4438 non-null   int64  \n",
      " 20  Sunrise_Sunset   4438 non-null   int64  \n",
      "dtypes: float64(7), int64(14)\n",
      "memory usage: 762.8 KB\n"
     ]
    }
   ],
   "source": [
    "train.info()"
   ]
  },
  {
   "cell_type": "code",
   "execution_count": 14,
   "metadata": {
    "colab": {
     "base_uri": "https://localhost:8080/",
     "height": 487
    },
    "id": "QpGmgL_Uqcb1",
    "outputId": "489d8d41-033b-4cc1-8ac4-a10de2d85cf6"
   },
   "outputs": [
    {
     "name": "stdout",
     "output_type": "stream",
     "text": [
      "<class 'pandas.core.frame.DataFrame'>\n",
      "Int64Index: 1903 entries, 14351 to 11967\n",
      "Data columns (total 21 columns):\n",
      " #   Column           Non-Null Count  Dtype  \n",
      "---  ------           --------------  -----  \n",
      " 0   TMC              1903 non-null   float64\n",
      " 1   Severity         1903 non-null   int64  \n",
      " 2   Distance(mi)     1903 non-null   float64\n",
      " 3   Temperature(F)   1903 non-null   float64\n",
      " 4   Humidity(%)      1903 non-null   float64\n",
      " 5   Pressure(in)     1903 non-null   float64\n",
      " 6   Visibility(mi)   1903 non-null   float64\n",
      " 7   Wind_Speed(mph)  1903 non-null   float64\n",
      " 8   Amenity          1903 non-null   int64  \n",
      " 9   Bump             1903 non-null   int64  \n",
      " 10  Crossing         1903 non-null   int64  \n",
      " 11  Give_Way         1903 non-null   int64  \n",
      " 12  Junction         1903 non-null   int64  \n",
      " 13  No_Exit          1903 non-null   int64  \n",
      " 14  Railway          1903 non-null   int64  \n",
      " 15  Roundabout       1903 non-null   int64  \n",
      " 16  Station          1903 non-null   int64  \n",
      " 17  Stop             1903 non-null   int64  \n",
      " 18  Traffic_Calming  1903 non-null   int64  \n",
      " 19  Traffic_Signal   1903 non-null   int64  \n",
      " 20  Sunrise_Sunset   1903 non-null   int64  \n",
      "dtypes: float64(7), int64(14)\n",
      "memory usage: 327.1 KB\n"
     ]
    }
   ],
   "source": [
    "test.info()"
   ]
  },
  {
   "cell_type": "markdown",
   "metadata": {
    "id": "XCpiHF_Wqcb8"
   },
   "source": [
    "# Scaling"
   ]
  },
  {
   "cell_type": "code",
   "execution_count": 15,
   "metadata": {
    "id": "RwbV-RZ2qcb8"
   },
   "outputs": [],
   "source": [
    "# scaler = MinMaxScaler(feature_range=(0, 1))\n",
    "# # scaling the features\n",
    "# x_train_scaled = scaler.fit_transform(X_train)\n",
    "# X_train = pd.DataFrame(x_train_scaled)\n",
    "# x_test_scaled = scaler.transform(X_test)\n",
    "# X_test = pd.DataFrame(x_test_scaled)\n",
    "from sklearn.preprocessing import StandardScaler\n",
    "ss = StandardScaler()\n",
    "X_train = ss.fit_transform(X_train)\n",
    "X_test = ss.transform(X_test)"
   ]
  },
  {
   "cell_type": "code",
   "execution_count": 16,
   "metadata": {
    "id": "erudr_-2qccA"
   },
   "outputs": [],
   "source": [
    "# for storing performance details of all models\n",
    "all_models = {'Model':[],'Cross Validation Score':[]}"
   ]
  },
  {
   "cell_type": "markdown",
   "metadata": {
    "id": "3AzYd7O0qccD"
   },
   "source": [
    "# KNN CLASSIFIER"
   ]
  },
  {
   "cell_type": "code",
   "execution_count": 17,
   "metadata": {
    "colab": {
     "base_uri": "https://localhost:8080/",
     "height": 673
    },
    "id": "VOZIJkAZ3j_q",
    "outputId": "3cf26e51-0260-4c90-838c-3e7df0c1fbee"
   },
   "outputs": [
    {
     "name": "stdout",
     "output_type": "stream",
     "text": [
      "[[883 338   5]\n",
      " [357 310   3]\n",
      " [  5   2   0]]\n",
      "              precision    recall  f1-score   support\n",
      "\n",
      "           2       0.71      0.72      0.71      1226\n",
      "           3       0.48      0.46      0.47       670\n",
      "           4       0.00      0.00      0.00         7\n",
      "\n",
      "    accuracy                           0.63      1903\n",
      "   macro avg       0.40      0.39      0.39      1903\n",
      "weighted avg       0.62      0.63      0.63      1903\n",
      "\n",
      "Train Score 1.0\n",
      "Test Score 0.626904887020494\n"
     ]
    },
    {
     "data": {
      "text/plain": [
       "Text(0, 0.5, 'Error Rate')"
      ]
     },
     "execution_count": 17,
     "metadata": {
      "tags": []
     },
     "output_type": "execute_result"
    },
    {
     "data": {
      "image/png": "[encoded data removed]",
      "text/plain": [
       "<Figure size 720x432 with 1 Axes>"
      ]
     },
     "metadata": {
      "needs_background": "light",
      "tags": []
     },
     "output_type": "display_data"
    }
   ],
   "source": [
    "knn = KNeighborsClassifier(n_neighbors = 1)\n",
    "knn.fit(X_train, y_train)\n",
    "pred = knn.predict(X_test)\n",
    "\n",
    "print(confusion_matrix(y_test,pred))\n",
    "print(classification_report(y_test,pred))\n",
    "print(\"Train Score\", knn.score(X_train, y_train))\n",
    "print(\"Test Score\", knn.score(X_test, y_test))\n",
    "\n",
    "\n",
    "error_rate = []\n",
    "\n",
    "# Will take some time\n",
    "for i in range(1,40):\n",
    "    \n",
    "    knn = KNeighborsClassifier(n_neighbors=i)\n",
    "    knn.fit(X_train,y_train)\n",
    "    pred_i = knn.predict(X_test)\n",
    "    error_rate.append(np.mean(pred_i != y_test))\n",
    "\n",
    "plt.figure(figsize=(10,6))\n",
    "plt.plot(range(1,40),error_rate,color='blue', linestyle='dashed', marker='o',\n",
    "         markerfacecolor='red', markersize=10)\n",
    "plt.title('Error Rate vs. K Value')\n",
    "plt.xlabel('K')\n",
    "plt.ylabel('Error Rate')"
   ]
  },
  {
   "cell_type": "markdown",
   "metadata": {
    "id": "ccggYdkM6WiM"
   },
   "source": [
    "### Applying GridSearchCV in KNN for tuning the parameters"
   ]
  },
  {
   "cell_type": "code",
   "execution_count": 18,
   "metadata": {
    "colab": {
     "base_uri": "https://localhost:8080/",
     "height": 151
    },
    "id": "1hCgzwtm6ZHR",
    "outputId": "0b3ecf0b-ba84-4a10-a68e-52cc0078f261"
   },
   "outputs": [
    {
     "name": "stdout",
     "output_type": "stream",
     "text": [
      "Best Cross-validation score: 0.69\n",
      "\n",
      "Cross-validation scores:\n",
      "[0.68693694 0.66441441 0.65765766 0.71171171 0.68918919 0.67792793\n",
      " 0.70945946 0.72297297 0.70880361 0.64108352]\n",
      "0.6870157403453114\n",
      "KNN parameters:  {'n_neighbors': 18}\n",
      "KNN Test Performance:  0.6894377299001576\n"
     ]
    }
   ],
   "source": [
    "param_knn = {'n_neighbors': range(1,20)}\n",
    "\n",
    "#apply grid search\n",
    "grid_knn = GridSearchCV(knn, param_knn, cv=5, return_train_score=True)\n",
    "grid_knn.fit(X_train, y_train)\n",
    "\n",
    "# Best Cross Validation Score\n",
    "print(\"Best Cross-validation score: {:.2f}\".format(grid_knn.best_score_))\n",
    "print()\n",
    "\n",
    "#Calculating the Cross Validation Scores\n",
    "kfold = KFold(n_splits=10)\n",
    "print(\"Cross-validation scores:\\n{}\".format(cross_val_score(knn , X_train, y_train, cv=kfold)))\n",
    "\n",
    "#Mean Cross Validation Score\n",
    "scores = cross_val_score(knn , X_train, y_train, cv=kfold)\n",
    "print(np.mean(scores))\n",
    "\n",
    "#Finding Best Parameters\n",
    "print('KNN parameters: ', grid_knn.best_params_)\n",
    "\n",
    "# Checking the test data set performance\n",
    "print(\"KNN Test Performance: \", grid_knn.score(X_test,y_test))"
   ]
  },
  {
   "cell_type": "markdown",
   "metadata": {
    "id": "_gqy-i_96K9O"
   },
   "source": [
    "### CrossValidation in KNN"
   ]
  },
  {
   "cell_type": "code",
   "execution_count": 19,
   "metadata": {
    "colab": {
     "base_uri": "https://localhost:8080/",
     "height": 118
    },
    "id": "jus-avd_6IHL",
    "outputId": "0d95a892-329a-4666-f186-ddabc31f73e1"
   },
   "outputs": [
    {
     "name": "stdout",
     "output_type": "stream",
     "text": [
      "Cross-validation scores:\n",
      "[0.68693694 0.66441441 0.65765766 0.71171171 0.68918919 0.67792793\n",
      " 0.70945946 0.72297297 0.70880361 0.64108352]\n",
      "Mean Cross-Validation :  0.6870157403453114\n",
      "Train score: 72.1947%\n",
      "Test score: 69.0489%\n"
     ]
    }
   ],
   "source": [
    "\n",
    "\n",
    "kfold = KFold(n_splits=10)\n",
    "print(\"Cross-validation scores:\\n{}\".format(cross_val_score(knn , X_train, y_train, cv=kfold)))\n",
    "scores = cross_val_score(knn , X_train, y_train, cv=kfold)\n",
    "print('Mean Cross-Validation : ', np.mean(scores))\n",
    "\n",
    "best_knn = KNeighborsClassifier(metric= 'manhattan', n_neighbors = 18, weights = 'uniform', algorithm ='auto',p = 1)\n",
    "\n",
    "best_knn.fit(X_train, y_train)\n",
    "y_pred_knn = best_knn.predict(X_test)\n",
    "\n",
    "print('Train score: {:.4f}%'.format(best_knn.score(X_train, y_train)*100))\n",
    "print('Test score: {:.4f}%'.format(best_knn.score(X_test, y_test)*100))\n"
   ]
  },
  {
   "cell_type": "code",
   "execution_count": 29,
   "metadata": {
    "colab": {
     "base_uri": "https://localhost:8080/",
     "height": 34
    },
    "id": "UmSB0SLQ585N",
    "outputId": "aa854535-d5eb-478f-f68c-fe531d2b1276"
   },
   "outputs": [
    {
     "name": "stdout",
     "output_type": "stream",
     "text": [
      "0.6904887020493957\n"
     ]
    }
   ],
   "source": [
    "# Knn_f1_score = f1_score(y_test, grid_knn.predict(X_test), average=None)\n",
    "# print('f1 score : {:.4f} '.format(f1_score(y_test, grid_knn.predict(X_test))))\n",
    "ft1 = f1_score(y_pred_knn,y_test, average='micro')\n",
    "print(ft1)"
   ]
  },
  {
   "cell_type": "markdown",
   "metadata": {
    "id": "Kx4LFxuxqcc5"
   },
   "source": [
    "We are getting the best training and test score with penalty = L2 and C = 0.1"
   ]
  },
  {
   "cell_type": "markdown",
   "metadata": {
    "id": "x65ZkCTCqcc6"
   },
   "source": [
    "### GridSearchCV in LogisticRegression"
   ]
  },
  {
   "cell_type": "code",
   "execution_count": 22,
   "metadata": {
    "colab": {
     "base_uri": "https://localhost:8080/",
     "height": 252
    },
    "id": "4sPCp55Tqcc6",
    "outputId": "c7f48530-d9f4-4355-af67-9a8642792a0e"
   },
   "outputs": [
    {
     "data": {
      "text/plain": [
       "GridSearchCV(cv=6, error_score=nan,\n",
       "             estimator=LogisticRegression(C=1.0, class_weight=None, dual=False,\n",
       "                                          fit_intercept=True,\n",
       "                                          intercept_scaling=1, l1_ratio=None,\n",
       "                                          max_iter=1000, multi_class='auto',\n",
       "                                          n_jobs=None, penalty='l2',\n",
       "                                          random_state=None, solver='lbfgs',\n",
       "                                          tol=0.0001, verbose=0,\n",
       "                                          warm_start=False),\n",
       "             iid='deprecated', n_jobs=None,\n",
       "             param_grid={'C': [0.001, 0.01, 0.1, 1, 10, 100],\n",
       "                         'penalty': ['l2']},\n",
       "             pre_dispatch='2*n_jobs', refit=True, return_train_score=True,\n",
       "             scoring=None, verbose=0)"
      ]
     },
     "execution_count": 22,
     "metadata": {
      "tags": []
     },
     "output_type": "execute_result"
    }
   ],
   "source": [
    "model = LogisticRegression(max_iter=1000)\n",
    "penalty = ['l2']\n",
    "C = [0.001,0.01,0.1,1,10,100]\n",
    "parameters = dict(C=C, penalty=penalty)\n",
    "\n",
    "grid_search = GridSearchCV(model,parameters, cv=6, return_train_score=True)\n",
    "# x_train1, x_test1, y_train1, y_test1 = train_test_split(x_train, y_train, random_state=0)\n",
    "grid_search.fit(X_train, y_train)"
   ]
  },
  {
   "cell_type": "code",
   "execution_count": 23,
   "metadata": {
    "colab": {
     "base_uri": "https://localhost:8080/",
     "height": 50
    },
    "id": "R87GdAbTqcc9",
    "outputId": "67262de9-a885-4df5-f18e-129324beefab"
   },
   "outputs": [
    {
     "name": "stdout",
     "output_type": "stream",
     "text": [
      "Best Cross-validation score: 0.70\n",
      "KNN parameters:  {'C': 0.1, 'penalty': 'l2'}\n"
     ]
    }
   ],
   "source": [
    "print(\"Best Cross-validation score: {:.2f}\".format(grid_search.best_score_))\n",
    "#Finding Best Parameters\n",
    "print('KNN parameters: ', grid_search.best_params_)\n"
   ]
  },
  {
   "cell_type": "code",
   "execution_count": 28,
   "metadata": {
    "colab": {
     "base_uri": "https://localhost:8080/",
     "height": 67
    },
    "id": "z4LqKyEgqcdF",
    "outputId": "b5b72cbe-1b60-42fd-9dfd-e8a8ab77db3a"
   },
   "outputs": [
    {
     "name": "stdout",
     "output_type": "stream",
     "text": [
      "Train score: 70.2794%\n",
      "Test score: 69.8371%\n",
      "0.698370993168681\n"
     ]
    }
   ],
   "source": [
    "best_logistic = LogisticRegression(penalty ='l2', C = 0.1, max_iter = 1000)\n",
    "\n",
    "best_logistic.fit(X_train,y_train)\n",
    "y_pred = best_logistic.predict(X_test)\n",
    "\n",
    "print('Train score: {:.4f}%'.format(best_logistic.score(X_train, y_train)*100))\n",
    "print('Test score: {:.4f}%'.format(best_logistic.score(X_test, y_test)*100))\n",
    "\n",
    "#Logistic_f1_score = f1_score(y_test,best_logistic.predict(x_test))\n",
    "#print(\"f1 score: {:.2f}\".format(f1_score(y_test,best_logistic.predict(x_test))))\n",
    "ft = f1_score(y_pred,y_test, average='micro')\n",
    "print(ft)"
   ]
  },
  {
   "cell_type": "markdown",
   "metadata": {
    "id": "hTjUR8XwqcdP"
   },
   "source": [
    "## Linear SVC"
   ]
  },
  {
   "cell_type": "code",
   "execution_count": 30,
   "metadata": {
    "colab": {
     "base_uri": "https://localhost:8080/",
     "height": 205
    },
    "id": "yx_e5CZ5qcdR",
    "outputId": "80f2cf1b-3536-4ab0-dbd4-5f6793cf256a"
   },
   "outputs": [
    {
     "name": "stderr",
     "output_type": "stream",
     "text": [
      "/usr/local/lib/python3.6/dist-packages/sklearn/svm/_base.py:947: ConvergenceWarning: Liblinear failed to converge, increase the number of iterations.\n",
      "  \"the number of iterations.\", ConvergenceWarning)\n",
      "/usr/local/lib/python3.6/dist-packages/sklearn/svm/_base.py:947: ConvergenceWarning: Liblinear failed to converge, increase the number of iterations.\n",
      "  \"the number of iterations.\", ConvergenceWarning)\n",
      "/usr/local/lib/python3.6/dist-packages/sklearn/svm/_base.py:947: ConvergenceWarning: Liblinear failed to converge, increase the number of iterations.\n",
      "  \"the number of iterations.\", ConvergenceWarning)\n",
      "/usr/local/lib/python3.6/dist-packages/sklearn/svm/_base.py:947: ConvergenceWarning: Liblinear failed to converge, increase the number of iterations.\n",
      "  \"the number of iterations.\", ConvergenceWarning)\n",
      "/usr/local/lib/python3.6/dist-packages/sklearn/svm/_base.py:947: ConvergenceWarning: Liblinear failed to converge, increase the number of iterations.\n",
      "  \"the number of iterations.\", ConvergenceWarning)\n"
     ]
    }
   ],
   "source": [
    "c_range = [0.001, 0.01, 0.1, 1, 10, 100, 1000]\n",
    "train_score = []\n",
    "test_score = []\n",
    "\n",
    "for i in c_range:\n",
    "    clf = LinearSVC(C = i)\n",
    "    clf.fit(X_train,y_train)\n",
    "    predictions = clf.predict(X_test)\n",
    "    train_score.append(clf.score(X_train, y_train))\n",
    "    test_score.append(clf.score(X_test, y_test))\n",
    "    "
   ]
  },
  {
   "cell_type": "markdown",
   "metadata": {
    "id": "5fzVvfbSqcdV"
   },
   "source": [
    "### GridSearchCV in LinearSVC"
   ]
  },
  {
   "cell_type": "code",
   "execution_count": 31,
   "metadata": {
    "colab": {
     "base_uri": "https://localhost:8080/",
     "height": 1000
    },
    "id": "EtPbBpFDqcdW",
    "outputId": "dfb52355-3233-4f54-df65-e349f078fcef"
   },
   "outputs": [
    {
     "name": "stderr",
     "output_type": "stream",
     "text": [
      "/usr/local/lib/python3.6/dist-packages/sklearn/svm/_base.py:947: ConvergenceWarning: Liblinear failed to converge, increase the number of iterations.\n",
      "  \"the number of iterations.\", ConvergenceWarning)\n",
      "/usr/local/lib/python3.6/dist-packages/sklearn/svm/_base.py:947: ConvergenceWarning: Liblinear failed to converge, increase the number of iterations.\n",
      "  \"the number of iterations.\", ConvergenceWarning)\n",
      "/usr/local/lib/python3.6/dist-packages/sklearn/svm/_base.py:947: ConvergenceWarning: Liblinear failed to converge, increase the number of iterations.\n",
      "  \"the number of iterations.\", ConvergenceWarning)\n",
      "/usr/local/lib/python3.6/dist-packages/sklearn/svm/_base.py:947: ConvergenceWarning: Liblinear failed to converge, increase the number of iterations.\n",
      "  \"the number of iterations.\", ConvergenceWarning)\n",
      "/usr/local/lib/python3.6/dist-packages/sklearn/svm/_base.py:947: ConvergenceWarning: Liblinear failed to converge, increase the number of iterations.\n",
      "  \"the number of iterations.\", ConvergenceWarning)\n",
      "/usr/local/lib/python3.6/dist-packages/sklearn/svm/_base.py:947: ConvergenceWarning: Liblinear failed to converge, increase the number of iterations.\n",
      "  \"the number of iterations.\", ConvergenceWarning)\n",
      "/usr/local/lib/python3.6/dist-packages/sklearn/svm/_base.py:947: ConvergenceWarning: Liblinear failed to converge, increase the number of iterations.\n",
      "  \"the number of iterations.\", ConvergenceWarning)\n",
      "/usr/local/lib/python3.6/dist-packages/sklearn/svm/_base.py:947: ConvergenceWarning: Liblinear failed to converge, increase the number of iterations.\n",
      "  \"the number of iterations.\", ConvergenceWarning)\n",
      "/usr/local/lib/python3.6/dist-packages/sklearn/svm/_base.py:947: ConvergenceWarning: Liblinear failed to converge, increase the number of iterations.\n",
      "  \"the number of iterations.\", ConvergenceWarning)\n",
      "/usr/local/lib/python3.6/dist-packages/sklearn/svm/_base.py:947: ConvergenceWarning: Liblinear failed to converge, increase the number of iterations.\n",
      "  \"the number of iterations.\", ConvergenceWarning)\n",
      "/usr/local/lib/python3.6/dist-packages/sklearn/svm/_base.py:947: ConvergenceWarning: Liblinear failed to converge, increase the number of iterations.\n",
      "  \"the number of iterations.\", ConvergenceWarning)\n",
      "/usr/local/lib/python3.6/dist-packages/sklearn/svm/_base.py:947: ConvergenceWarning: Liblinear failed to converge, increase the number of iterations.\n",
      "  \"the number of iterations.\", ConvergenceWarning)\n",
      "/usr/local/lib/python3.6/dist-packages/sklearn/svm/_base.py:947: ConvergenceWarning: Liblinear failed to converge, increase the number of iterations.\n",
      "  \"the number of iterations.\", ConvergenceWarning)\n",
      "/usr/local/lib/python3.6/dist-packages/sklearn/svm/_base.py:947: ConvergenceWarning: Liblinear failed to converge, increase the number of iterations.\n",
      "  \"the number of iterations.\", ConvergenceWarning)\n",
      "/usr/local/lib/python3.6/dist-packages/sklearn/svm/_base.py:947: ConvergenceWarning: Liblinear failed to converge, increase the number of iterations.\n",
      "  \"the number of iterations.\", ConvergenceWarning)\n",
      "/usr/local/lib/python3.6/dist-packages/sklearn/svm/_base.py:947: ConvergenceWarning: Liblinear failed to converge, increase the number of iterations.\n",
      "  \"the number of iterations.\", ConvergenceWarning)\n",
      "/usr/local/lib/python3.6/dist-packages/sklearn/svm/_base.py:947: ConvergenceWarning: Liblinear failed to converge, increase the number of iterations.\n",
      "  \"the number of iterations.\", ConvergenceWarning)\n",
      "/usr/local/lib/python3.6/dist-packages/sklearn/svm/_base.py:947: ConvergenceWarning: Liblinear failed to converge, increase the number of iterations.\n",
      "  \"the number of iterations.\", ConvergenceWarning)\n",
      "/usr/local/lib/python3.6/dist-packages/sklearn/svm/_base.py:947: ConvergenceWarning: Liblinear failed to converge, increase the number of iterations.\n",
      "  \"the number of iterations.\", ConvergenceWarning)\n",
      "/usr/local/lib/python3.6/dist-packages/sklearn/svm/_base.py:947: ConvergenceWarning: Liblinear failed to converge, increase the number of iterations.\n",
      "  \"the number of iterations.\", ConvergenceWarning)\n",
      "/usr/local/lib/python3.6/dist-packages/sklearn/svm/_base.py:947: ConvergenceWarning: Liblinear failed to converge, increase the number of iterations.\n",
      "  \"the number of iterations.\", ConvergenceWarning)\n",
      "/usr/local/lib/python3.6/dist-packages/sklearn/svm/_base.py:947: ConvergenceWarning: Liblinear failed to converge, increase the number of iterations.\n",
      "  \"the number of iterations.\", ConvergenceWarning)\n",
      "/usr/local/lib/python3.6/dist-packages/sklearn/svm/_base.py:947: ConvergenceWarning: Liblinear failed to converge, increase the number of iterations.\n",
      "  \"the number of iterations.\", ConvergenceWarning)\n",
      "/usr/local/lib/python3.6/dist-packages/sklearn/svm/_base.py:947: ConvergenceWarning: Liblinear failed to converge, increase the number of iterations.\n",
      "  \"the number of iterations.\", ConvergenceWarning)\n",
      "/usr/local/lib/python3.6/dist-packages/sklearn/svm/_base.py:947: ConvergenceWarning: Liblinear failed to converge, increase the number of iterations.\n",
      "  \"the number of iterations.\", ConvergenceWarning)\n"
     ]
    },
    {
     "data": {
      "text/plain": [
       "GridSearchCV(cv=6, error_score=nan,\n",
       "             estimator=LinearSVC(C=1.0, class_weight=None, dual=True,\n",
       "                                 fit_intercept=True, intercept_scaling=1,\n",
       "                                 loss='squared_hinge', max_iter=1000,\n",
       "                                 multi_class='ovr', penalty='l2',\n",
       "                                 random_state=None, tol=0.0001, verbose=0),\n",
       "             iid='deprecated', n_jobs=None,\n",
       "             param_grid={'C': [0.001, 0.01, 0.1, 1, 10, 100]},\n",
       "             pre_dispatch='2*n_jobs', refit=True, return_train_score=True,\n",
       "             scoring=None, verbose=0)"
      ]
     },
     "execution_count": 31,
     "metadata": {
      "tags": []
     },
     "output_type": "execute_result"
    }
   ],
   "source": [
    "model = LinearSVC()\n",
    "C = [0.001,0.01,0.1,1,10,100]\n",
    "parameters = dict(C=C)\n",
    "\n",
    "grid_search = GridSearchCV(model,parameters, cv=6, return_train_score=True)\n",
    "#x_train1, x_test1, y_train1, y_test1 = train_test_split(X, y, random_state=0)\n",
    "grid_search.fit(X_train, y_train)"
   ]
  },
  {
   "cell_type": "code",
   "execution_count": 32,
   "metadata": {
    "colab": {
     "base_uri": "https://localhost:8080/",
     "height": 50
    },
    "id": "US5-iiDQqcdY",
    "outputId": "c965e347-b27b-4590-b7cb-2977fcca7031"
   },
   "outputs": [
    {
     "name": "stdout",
     "output_type": "stream",
     "text": [
      "Best Cross-validation score: 0.70\n",
      "Best LinearSVC parameters:  {'C': 10}\n"
     ]
    }
   ],
   "source": [
    "print(\"Best Cross-validation score: {:.2f}\".format(grid_search.best_score_))\n",
    "#Finding Best Parameters\n",
    "print('Best LinearSVC parameters: ', grid_search.best_params_)\n"
   ]
  },
  {
   "cell_type": "code",
   "execution_count": 34,
   "metadata": {
    "colab": {
     "base_uri": "https://localhost:8080/",
     "height": 67
    },
    "id": "q_R6sdA_qcdb",
    "outputId": "d81e2233-bc62-4973-eb12-715008d8482a"
   },
   "outputs": [
    {
     "name": "stdout",
     "output_type": "stream",
     "text": [
      "Train score: 69.9189 %\n",
      "Test score: 69.0489 %\n",
      "0.6904887020493957\n"
     ]
    }
   ],
   "source": [
    "grid_search = LinearSVC(C = 0.001 ,max_iter = 54)\n",
    "grid_search.fit(X_train, y_train)\n",
    "y_pred_SVM = grid_search.predict(X_test)\n",
    " \n",
    "print('Train score: {:.4f} %'.format(grid_search.score(X_train, y_train)*100))\n",
    "print('Test score: {:.4f} %'.format(grid_search.score(X_test, y_test)*100))\n",
    "\n",
    "# LinearSVC_f1_score = f1_score(y_test,grid_search.predict(X_test))\n",
    "# print(\"f1 score: {:.2f}\".format(f1_score(y_test,grid_search.predict(X_test))))\n",
    "ft2 = f1_score(y_pred_SVM,y_test, average='micro')\n",
    "print(ft2)"
   ]
  },
  {
   "cell_type": "markdown",
   "metadata": {
    "id": "aUacxmkkqcde"
   },
   "source": [
    "### CrossValidation in LinearSVC"
   ]
  },
  {
   "cell_type": "code",
   "execution_count": 35,
   "metadata": {
    "colab": {
     "base_uri": "https://localhost:8080/",
     "height": 457
    },
    "id": "4KijQIWyqcdf",
    "outputId": "59e482f4-c973-45d6-929d-4192172729ed"
   },
   "outputs": [
    {
     "name": "stderr",
     "output_type": "stream",
     "text": [
      "/usr/local/lib/python3.6/dist-packages/sklearn/svm/_base.py:947: ConvergenceWarning: Liblinear failed to converge, increase the number of iterations.\n",
      "  \"the number of iterations.\", ConvergenceWarning)\n",
      "/usr/local/lib/python3.6/dist-packages/sklearn/svm/_base.py:947: ConvergenceWarning: Liblinear failed to converge, increase the number of iterations.\n",
      "  \"the number of iterations.\", ConvergenceWarning)\n",
      "/usr/local/lib/python3.6/dist-packages/sklearn/svm/_base.py:947: ConvergenceWarning: Liblinear failed to converge, increase the number of iterations.\n",
      "  \"the number of iterations.\", ConvergenceWarning)\n",
      "/usr/local/lib/python3.6/dist-packages/sklearn/svm/_base.py:947: ConvergenceWarning: Liblinear failed to converge, increase the number of iterations.\n",
      "  \"the number of iterations.\", ConvergenceWarning)\n",
      "/usr/local/lib/python3.6/dist-packages/sklearn/svm/_base.py:947: ConvergenceWarning: Liblinear failed to converge, increase the number of iterations.\n",
      "  \"the number of iterations.\", ConvergenceWarning)\n",
      "/usr/local/lib/python3.6/dist-packages/sklearn/svm/_base.py:947: ConvergenceWarning: Liblinear failed to converge, increase the number of iterations.\n",
      "  \"the number of iterations.\", ConvergenceWarning)\n",
      "/usr/local/lib/python3.6/dist-packages/sklearn/svm/_base.py:947: ConvergenceWarning: Liblinear failed to converge, increase the number of iterations.\n",
      "  \"the number of iterations.\", ConvergenceWarning)\n",
      "/usr/local/lib/python3.6/dist-packages/sklearn/svm/_base.py:947: ConvergenceWarning: Liblinear failed to converge, increase the number of iterations.\n",
      "  \"the number of iterations.\", ConvergenceWarning)\n",
      "/usr/local/lib/python3.6/dist-packages/sklearn/svm/_base.py:947: ConvergenceWarning: Liblinear failed to converge, increase the number of iterations.\n",
      "  \"the number of iterations.\", ConvergenceWarning)\n",
      "/usr/local/lib/python3.6/dist-packages/sklearn/svm/_base.py:947: ConvergenceWarning: Liblinear failed to converge, increase the number of iterations.\n",
      "  \"the number of iterations.\", ConvergenceWarning)\n"
     ]
    },
    {
     "name": "stdout",
     "output_type": "stream",
     "text": [
      "Cross-validation scores:\n",
      "[0.5990991  0.56306306 0.58108108 0.56081081 0.65990991 0.65315315\n",
      " 0.58558559 0.59234234 0.68848758 0.61399549]\n",
      "Mean Cross-Validation Score :  0.6870157403453114\n",
      "0.698370993168681\n"
     ]
    }
   ],
   "source": [
    "kfold = KFold(n_splits=10)\n",
    "print(\"Cross-validation scores:\\n{}\".format(cross_val_score(clf , X_train, y_train, cv=kfold)))\n",
    "scores = cross_val_score(knn , X_train, y_train, cv=kfold)\n",
    "print('Mean Cross-Validation Score : ', np.mean(scores))\n"
   ]
  },
  {
   "cell_type": "markdown",
   "metadata": {
    "id": "pW3-5xkOqcdn"
   },
   "source": [
    "## Support Vector Machine"
   ]
  },
  {
   "cell_type": "code",
   "execution_count": 36,
   "metadata": {
    "id": "4uOhbcn8M__B"
   },
   "outputs": [],
   "source": [
    "from sklearn import svm"
   ]
  },
  {
   "cell_type": "code",
   "execution_count": 37,
   "metadata": {
    "id": "T3nWaPROqcdn"
   },
   "outputs": [],
   "source": [
    "c_range = [0.001,0.01, 0.1, 1, 10,100]\n",
    "\n",
    "train_score_list = []\n",
    "test_score_list = []\n",
    "for C in c_range:\n",
    "    \n",
    "    kernal_clf = svm.SVC(kernel = 'linear', C = C)\n",
    "    kernal_clf.fit(X_train,y_train) \n",
    "    train_score_list.append(kernal_clf.score(X_train,y_train))\n",
    "    test_score_list.append(kernal_clf.score(X_test, y_test))"
   ]
  },
  {
   "cell_type": "code",
   "execution_count": 38,
   "metadata": {
    "colab": {
     "base_uri": "https://localhost:8080/",
     "height": 302
    },
    "id": "j9facVS-qcds",
    "outputId": "93a3313c-373f-41aa-ac01-1506e8b28ab6"
   },
   "outputs": [
    {
     "data": {
      "text/plain": [
       "<matplotlib.legend.Legend at 0x7f61dc58e978>"
      ]
     },
     "execution_count": 38,
     "metadata": {
      "tags": []
     },
     "output_type": "execute_result"
    },
    {
     "data": {
      "image/png": "[encoded data removed]",
      "text/plain": [
       "<Figure size 432x288 with 1 Axes>"
      ]
     },
     "metadata": {
      "needs_background": "light",
      "tags": []
     },
     "output_type": "display_data"
    }
   ],
   "source": [
    "%matplotlib inline\n",
    "plt.plot(c_range, train_score_list, label = 'Train Score', c = 'g')\n",
    "plt.plot(c_range, test_score_list, label = 'Test Score', c='b')\n",
    "plt.xscale('log')\n",
    "plt.xlabel('Regularization Parameter C')\n",
    "plt.ylabel('Accuracy')\n",
    "\n",
    "plt.legend()"
   ]
  },
  {
   "cell_type": "markdown",
   "metadata": {
    "id": "wTy9v1uXqcdv"
   },
   "source": [
    "### GridSearchCV in Kernalized SVM ( linear )"
   ]
  },
  {
   "cell_type": "code",
   "execution_count": 39,
   "metadata": {
    "colab": {
     "base_uri": "https://localhost:8080/",
     "height": 202
    },
    "id": "BZ5JQ-Vuqcdx",
    "outputId": "0842f7fc-8e6b-4f69-c908-c0757a397d62"
   },
   "outputs": [
    {
     "data": {
      "text/plain": [
       "GridSearchCV(cv=3, error_score=nan,\n",
       "             estimator=SVC(C=1.0, break_ties=False, cache_size=200,\n",
       "                           class_weight=None, coef0=0.0,\n",
       "                           decision_function_shape='ovr', degree=3,\n",
       "                           gamma='scale', kernel='linear', max_iter=-1,\n",
       "                           probability=False, random_state=None, shrinking=True,\n",
       "                           tol=0.001, verbose=False),\n",
       "             iid='deprecated', n_jobs=None,\n",
       "             param_grid={'C': [0.001, 0.01, 0.1, 1, 10, 100]},\n",
       "             pre_dispatch='2*n_jobs', refit=True, return_train_score=True,\n",
       "             scoring=None, verbose=0)"
      ]
     },
     "execution_count": 39,
     "metadata": {
      "tags": []
     },
     "output_type": "execute_result"
    }
   ],
   "source": [
    "model = SVC(kernel = 'linear')\n",
    "\n",
    "parameters = {'C' : [0.001,0.01,0.1,1,10,100]}\n",
    "\n",
    "grid_search = GridSearchCV(model,parameters, cv=3, return_train_score=True)\n",
    "grid_search.fit(X_train, y_train)"
   ]
  },
  {
   "cell_type": "code",
   "execution_count": 40,
   "metadata": {
    "colab": {
     "base_uri": "https://localhost:8080/",
     "height": 50
    },
    "id": "KJCsv90zqcd0",
    "outputId": "85166382-268a-45bf-bf18-0e1d940b5cae"
   },
   "outputs": [
    {
     "name": "stdout",
     "output_type": "stream",
     "text": [
      "Best Cross-validation score: 0.69\n",
      "Best SVM parameters(Kernel = Linear) :  {'C': 0.1}\n"
     ]
    }
   ],
   "source": [
    "print(\"Best Cross-validation score: {:.2f}\".format(grid_search.best_score_))\n",
    "#Finding Best Parameters\n",
    "print('Best SVM parameters(Kernel = Linear) : ', grid_search.best_params_)\n"
   ]
  },
  {
   "cell_type": "code",
   "execution_count": 41,
   "metadata": {
    "colab": {
     "base_uri": "https://localhost:8080/",
     "height": 50
    },
    "id": "2zt7Pt_3qcd4",
    "outputId": "4debdb0d-d6ae-49b2-ca71-d00ca1715969"
   },
   "outputs": [
    {
     "name": "stdout",
     "output_type": "stream",
     "text": [
      "[LibSVM]Train score: 67.2600 %\n",
      "Test score: 65.3705 %\n"
     ]
    }
   ],
   "source": [
    "best_svm = SVC(C = 0.001, cache_size = 200, gamma = 0.001, kernel = 'linear', verbose = True)\n",
    "\n",
    "best_svm.fit(X_train,y_train)\n",
    "y_pred_kernel = best_svm.predict(X_test)\n",
    "\n",
    "print('Train score: {:.4f} %'.format(best_svm.score(X_train, y_train)*100))\n",
    "print('Test score: {:.4f} %'.format(best_svm.score(X_test, y_test)*100))\n",
    "\n",
    "# KernalizedSVM_f1_score = f1_score(y_test, best_svm.predict(X_test))\n",
    "# print(\"f1 score: {:.2f}\".format(f1_score(y_test, best_svm.predict(X_test))))"
   ]
  },
  {
   "cell_type": "markdown",
   "metadata": {
    "id": "sWamfow5qcd6"
   },
   "source": [
    "### CrossValidation in Kernalized SVM ( linear )"
   ]
  },
  {
   "cell_type": "code",
   "execution_count": 42,
   "metadata": {
    "colab": {
     "base_uri": "https://localhost:8080/",
     "height": 67
    },
    "id": "VDkYss7sqcd7",
    "outputId": "1ae508d1-92b2-4369-c0f4-2e319973bfce"
   },
   "outputs": [
    {
     "name": "stdout",
     "output_type": "stream",
     "text": [
      "Cross-validation scores:\n",
      "[0.67342342 0.68355856 0.69369369 0.70349493 0.70011274]\n",
      "Mean Cross-Validation Score :  0.6886031465512864\n"
     ]
    }
   ],
   "source": [
    "kfold = KFold(n_splits=5)\n",
    "print(\"Cross-validation scores:\\n{}\".format(cross_val_score(kernal_clf , X_train, y_train, cv=kfold)))\n",
    "scores = cross_val_score(knn , X_train, y_train, cv=kfold)\n",
    "print('Mean Cross-Validation Score : ', np.mean(scores))"
   ]
  },
  {
   "cell_type": "code",
   "execution_count": null,
   "metadata": {
    "id": "kLiSi2obqcd9"
   },
   "outputs": [],
   "source": []
  },
  {
   "cell_type": "markdown",
   "metadata": {
    "id": "dM6pBfyHqcd_"
   },
   "source": [
    "### Kernel = rbf"
   ]
  },
  {
   "cell_type": "code",
   "execution_count": 43,
   "metadata": {
    "id": "r5F8qndsqcd_"
   },
   "outputs": [],
   "source": [
    "train = []\n",
    "test = []\n",
    "index = []\n",
    "c_range = [0.001, 0.01,0.1, 1, 10, 100]\n",
    "gamma_range = [0.001, 0.01,0.1, 1, 10, 100]\n",
    "\n",
    "for C in c_range:\n",
    "    for gamma in gamma_range:\n",
    "        #create the model\n",
    "        svc = SVC(kernel = 'rbf', C = C, gamma = gamma)\n",
    "        \n",
    "        #train the model\n",
    "        svc.fit(X_train, y_train)\n",
    "        \n",
    "        #evaluate the model\n",
    "        train.append(svc.score(X_train, y_train))\n",
    "        test.append(svc.score(X_test, y_test))\n",
    "        index.append((C,gamma))"
   ]
  },
  {
   "cell_type": "markdown",
   "metadata": {
    "id": "uoE0Cy8xqceD"
   },
   "source": [
    "### GridSearchCV in Kernelized SVM ( rbf )"
   ]
  },
  {
   "cell_type": "code",
   "execution_count": 44,
   "metadata": {
    "colab": {
     "base_uri": "https://localhost:8080/",
     "height": 202
    },
    "id": "zHk3qVrpqceF",
    "outputId": "4487de6c-7278-47e1-eb29-d2f3e14a8902"
   },
   "outputs": [
    {
     "data": {
      "text/plain": [
       "GridSearchCV(cv=3, error_score=nan,\n",
       "             estimator=SVC(C=1.0, break_ties=False, cache_size=200,\n",
       "                           class_weight=None, coef0=0.0,\n",
       "                           decision_function_shape='ovr', degree=3,\n",
       "                           gamma='scale', kernel='rbf', max_iter=-1,\n",
       "                           probability=False, random_state=None, shrinking=True,\n",
       "                           tol=0.001, verbose=False),\n",
       "             iid='deprecated', n_jobs=None,\n",
       "             param_grid={'C': [0.001, 0.01, 0.1, 1, 10, 100]},\n",
       "             pre_dispatch='2*n_jobs', refit=True, return_train_score=True,\n",
       "             scoring=None, verbose=0)"
      ]
     },
     "execution_count": 44,
     "metadata": {
      "tags": []
     },
     "output_type": "execute_result"
    }
   ],
   "source": [
    "model = SVC(kernel = 'rbf')\n",
    "\n",
    "parameters = {'C' : [0.001,0.01,0.1,1,10,100]}\n",
    "\n",
    "grid_search = GridSearchCV(model,parameters, cv=3, return_train_score=True)\n",
    "grid_search.fit(X_train, y_train)"
   ]
  },
  {
   "cell_type": "code",
   "execution_count": 45,
   "metadata": {
    "colab": {
     "base_uri": "https://localhost:8080/",
     "height": 50
    },
    "id": "eFnICUskqceI",
    "outputId": "f38c5660-b745-4a9f-f68d-3eb93f6a771d"
   },
   "outputs": [
    {
     "name": "stdout",
     "output_type": "stream",
     "text": [
      "Best Cross-validation score: 0.70\n",
      "Best SVM parameters(Kernel = rbf) :  {'C': 1}\n"
     ]
    }
   ],
   "source": [
    "print(\"Best Cross-validation score: {:.2f}\".format(grid_search.best_score_))\n",
    "#Finding Best Parameters\n",
    "print('Best SVM parameters(Kernel = rbf) : ', grid_search.best_params_)"
   ]
  },
  {
   "cell_type": "code",
   "execution_count": 47,
   "metadata": {
    "colab": {
     "base_uri": "https://localhost:8080/",
     "height": 50
    },
    "id": "rXn-aU3VqceN",
    "outputId": "f2f91913-211b-4bb4-ad43-a9f3c8e9e4fa"
   },
   "outputs": [
    {
     "name": "stdout",
     "output_type": "stream",
     "text": [
      "[LibSVM]Train score: 67.9585 %\n",
      "Test score: 66.3689 %\n"
     ]
    }
   ],
   "source": [
    "best_svm = SVC(C = 1, cache_size = 200, gamma = 0.001, kernel = 'rbf', verbose = True)\n",
    "\n",
    "best_svm.fit(X_train,y_train)\n",
    "y_pred_kernel = best_svm.predict(X_test)\n",
    "\n",
    "print('Train score: {:.4f} %'.format(best_svm.score(X_train, y_train)*100))\n",
    "print('Test score: {:.4f} %'.format(best_svm.score(X_test, y_test)*100))\n",
    "\n",
    "# KernalizedSVM_f1_score = f1_score(y_test, best_svm.predict(X_test))\n",
    "# print(\"f1 score: {:.2f}\".format(f1_score(y_test, best_svm.predict(X_test))))"
   ]
  },
  {
   "cell_type": "markdown",
   "metadata": {
    "id": "lPsLjgDLqceQ"
   },
   "source": [
    "### CrossValidation in Kernelized SVM ( rbf )"
   ]
  },
  {
   "cell_type": "code",
   "execution_count": 48,
   "metadata": {
    "colab": {
     "base_uri": "https://localhost:8080/",
     "height": 67
    },
    "id": "bQkpwJYxqceQ",
    "outputId": "f98b30e9-d452-4798-dcda-e2193fcc8895"
   },
   "outputs": [
    {
     "name": "stdout",
     "output_type": "stream",
     "text": [
      "Cross-validation scores:\n",
      "[0.66441441 0.65540541 0.66891892 0.66741826 0.65952649]\n",
      "Mean Cross-Validation Score :  0.663136699269732\n"
     ]
    }
   ],
   "source": [
    "kfold = KFold(n_splits=5)\n",
    "print(\"Cross-validation scores:\\n{}\".format(cross_val_score(svc , X_train, y_train, cv=kfold)))\n",
    "scores = cross_val_score(svc , X_train, y_train, cv=kfold)\n",
    "print('Mean Cross-Validation Score : ', np.mean(scores))"
   ]
  },
  {
   "cell_type": "markdown",
   "metadata": {},
   "source": [
    "## Due to low computational power of our system, the models below could not be implemented."
   ]
  },
  {
   "cell_type": "markdown",
   "metadata": {
    "id": "LiplHS92qceU"
   },
   "source": [
    "## Kernel = poly"
   ]
  },
  {
   "cell_type": "code",
   "execution_count": null,
   "metadata": {
    "id": "6GwHTu3ZqceU"
   },
   "outputs": [],
   "source": [
    "train = []\n",
    "test = []\n",
    "index = []\n",
    "c_range = [0.001, 0.01,0.1, 1, 10, 100]\n",
    "gamma_range = [0.001, 0.01,0.1, 1, 10, 100]\n",
    "\n",
    "for C in c_range:\n",
    "    for gamma in gamma_range:\n",
    "        #create the model\n",
    "        svc = SVC(kernel = 'poly', C = C, gamma = gamma)\n",
    "        \n",
    "        #train the model\n",
    "        svc.fit(X_train, y_train)\n",
    "        \n",
    "        #evaluate the model\n",
    "        train.append(svc.score(X_train, y_train))\n",
    "        test.append(svc.score(X_test, y_test))\n",
    "        index.append((C,gamma))"
   ]
  },
  {
   "cell_type": "markdown",
   "metadata": {
    "id": "3Ly6ekwbqceX"
   },
   "source": [
    "### GridSearchCV in Kernelized SVM ( poly )"
   ]
  },
  {
   "cell_type": "code",
   "execution_count": null,
   "metadata": {
    "colab": {
     "base_uri": "https://localhost:8080/",
     "height": 232
    },
    "id": "jI5RqYRyqceX",
    "outputId": "0b923217-3ab9-4f73-c492-6490d936598b"
   },
   "outputs": [
    {
     "ename": "NameError",
     "evalue": "ignored",
     "output_type": "error",
     "traceback": [
      "\u001b[0;31m---------------------------------------------------------------------------\u001b[0m",
      "\u001b[0;31mNameError\u001b[0m                                 Traceback (most recent call last)",
      "\u001b[0;32m<ipython-input-33-5900a7cda19b>\u001b[0m in \u001b[0;36m<module>\u001b[0;34m()\u001b[0m\n\u001b[0;32m----> 1\u001b[0;31m \u001b[0mmodel\u001b[0m \u001b[0;34m=\u001b[0m \u001b[0mSVC\u001b[0m\u001b[0;34m(\u001b[0m\u001b[0mkernel\u001b[0m \u001b[0;34m=\u001b[0m \u001b[0;34m'poly'\u001b[0m\u001b[0;34m)\u001b[0m\u001b[0;34m\u001b[0m\u001b[0;34m\u001b[0m\u001b[0m\n\u001b[0m\u001b[1;32m      2\u001b[0m \u001b[0;34m\u001b[0m\u001b[0m\n\u001b[1;32m      3\u001b[0m \u001b[0mparameters\u001b[0m \u001b[0;34m=\u001b[0m \u001b[0;34m{\u001b[0m\u001b[0;34m'C'\u001b[0m \u001b[0;34m:\u001b[0m \u001b[0;34m[\u001b[0m\u001b[0;36m0.001\u001b[0m\u001b[0;34m,\u001b[0m\u001b[0;36m0.01\u001b[0m\u001b[0;34m,\u001b[0m\u001b[0;36m0.1\u001b[0m\u001b[0;34m,\u001b[0m\u001b[0;36m1\u001b[0m\u001b[0;34m,\u001b[0m\u001b[0;36m10\u001b[0m\u001b[0;34m,\u001b[0m\u001b[0;36m100\u001b[0m\u001b[0;34m]\u001b[0m\u001b[0;34m}\u001b[0m\u001b[0;34m\u001b[0m\u001b[0;34m\u001b[0m\u001b[0m\n\u001b[1;32m      4\u001b[0m \u001b[0;34m\u001b[0m\u001b[0m\n\u001b[1;32m      5\u001b[0m \u001b[0mgrid_search\u001b[0m \u001b[0;34m=\u001b[0m \u001b[0mGridSearchCV\u001b[0m\u001b[0;34m(\u001b[0m\u001b[0mmodel\u001b[0m\u001b[0;34m,\u001b[0m\u001b[0mparameters\u001b[0m\u001b[0;34m,\u001b[0m \u001b[0mcv\u001b[0m\u001b[0;34m=\u001b[0m\u001b[0;36m3\u001b[0m\u001b[0;34m,\u001b[0m \u001b[0mreturn_train_score\u001b[0m\u001b[0;34m=\u001b[0m\u001b[0;32mTrue\u001b[0m\u001b[0;34m)\u001b[0m\u001b[0;34m\u001b[0m\u001b[0;34m\u001b[0m\u001b[0m\n",
      "\u001b[0;31mNameError\u001b[0m: name 'SVC' is not defined"
     ]
    }
   ],
   "source": [
    "model = SVC(kernel = 'poly')\n",
    "\n",
    "parameters = {'C' : [0.001,0.01,0.1,1,10,100]}\n",
    "\n",
    "grid_search = GridSearchCV(model,parameters, cv=3, return_train_score=True)\n",
    "grid_search.fit(X_train, y_train)"
   ]
  },
  {
   "cell_type": "code",
   "execution_count": null,
   "metadata": {
    "id": "diLB21ASqcec"
   },
   "outputs": [],
   "source": [
    "print(\"Best Cross-validation score: {:.2f}\".format(grid_search.best_score_))\n",
    "#Finding Best Parameters\n",
    "print('Best SVM parameters(Kernel = poly) : ', grid_search.best_params_)"
   ]
  },
  {
   "cell_type": "code",
   "execution_count": null,
   "metadata": {
    "id": "VE_BSg3mqcee"
   },
   "outputs": [],
   "source": [
    "best_svm = SVC(C = 1, cache_size = 200, gamma = 0.01, kernel = 'rbf', verbose = True)\n",
    "\n",
    "best_svm.fit(X_train,y_train)\n",
    "y_pred_kernel = best_svm.predict(X_test)\n",
    "\n",
    "print('Train score: {:.4f} %'.format(best_svm.score(X_train, y_train)*100))\n",
    "print('Test score: {:.4f} %'.format(best_svm.score(X_test, y_test)*100))\n",
    "\n",
    "# KernalizedSVM_f1_score = f1_score(y_test, best_svm.predict(X_test))\n",
    "# print(\"f1 score: {:.2f}\".format(f1_score(y_test, best_svm.predict(X_test))))"
   ]
  },
  {
   "cell_type": "markdown",
   "metadata": {
    "id": "L5LossiUqceg"
   },
   "source": [
    "### CrossValidation in Kernelized SVM ( poly )"
   ]
  },
  {
   "cell_type": "code",
   "execution_count": null,
   "metadata": {
    "id": "HVViFgtuqceh"
   },
   "outputs": [],
   "source": [
    "kfold = KFold(n_splits=5)\n",
    "print(\"Cross-validation scores:\\n{}\".format(cross_val_score(svc , X_train, y_train, cv=kfold)))\n",
    "scores = cross_val_score(svc , X_train, y_train, cv=kfold)\n",
    "print('Mean Cross-Validation Score : ', np.mean(scores))"
   ]
  },
  {
   "cell_type": "markdown",
   "metadata": {
    "id": "RaNqfQ6_qcek"
   },
   "source": [
    "## Decision Tree "
   ]
  },
  {
   "cell_type": "code",
   "execution_count": null,
   "metadata": {
    "id": "OjoOz-Bbqcel"
   },
   "outputs": [],
   "source": [
    "dtree = DecisionTreeClassifier(random_state=0)\n",
    "\n",
    "dtree.fit(X_train, y_train)\n",
    "print(\"Accuracy on training set: {:.3f}\".format(dtree.score(X_train, y_train)))\n",
    "print(\"Accuracy on test set: {:.3f}\".format(dtree.score(X_test, y_test)))\n",
    "dtree = DecisionTreeClassifier(max_depth=5, random_state=0)\n",
    "dtree.fit(X_train, y_train)\n",
    "\n",
    "print(\"Accuracy on training set: {:.3f}\".format(dtree.score(X_train, y_train)))\n",
    "print(\"Accuracy on test set: {:.3f}\".format(dtree.score(X_test, y_test)))"
   ]
  },
  {
   "cell_type": "markdown",
   "metadata": {
    "id": "0clrUcZtqcen"
   },
   "source": [
    "### GridSearchCV on DecisionTree"
   ]
  },
  {
   "cell_type": "code",
   "execution_count": null,
   "metadata": {
    "id": "ZjUM4DWjqceo"
   },
   "outputs": [],
   "source": [
    "#define a list of parameters\n",
    "param_dtree = {'max_depth': range(1,20)}\n",
    "\n",
    "#apply grid search\n",
    "grid_dtree = GridSearchCV(dtree, param_dtree, cv=5, return_train_score = True)\n",
    "grid_dtree.fit(X_train, y_train)"
   ]
  },
  {
   "cell_type": "markdown",
   "metadata": {
    "id": "kN2LSguWqcer"
   },
   "source": [
    "### CrossValidation on DecisionTree"
   ]
  },
  {
   "cell_type": "code",
   "execution_count": null,
   "metadata": {
    "id": "ZLt6tn03qcer"
   },
   "outputs": [],
   "source": [
    "print(\"Best Cross-validation score: {:.2f}\".format(grid_dtree.best_score_))\n",
    "#Finding Best Parameters\n",
    "print('Best DecisionTree parameters : ', grid_dtree.best_params_)"
   ]
  },
  {
   "cell_type": "code",
   "execution_count": null,
   "metadata": {
    "id": "M1drLiWsqcet"
   },
   "outputs": [],
   "source": [
    "best_dtree = DecisionTreeClassifier(max_depth = 3, min_samples_leaf = 2)\n",
    "\n",
    "best_dtree.fit(X_train, y_train)\n",
    "y_pred_dtree = best_dtree.predict(X_test)\n",
    "\n",
    "print('Train score: {:.4f}%'.format(best_dtree.score(X_train, y_train)*100))\n",
    "print('Test score: {:.4f}%'.format(best_dtree.score(X_test, y_test)*100))\n",
    "\n",
    "# Decision_f1_score = f1_score(y_test, best_dtree.predict(X_test))\n",
    "# print('f1 score : {:.4f} '.format(f1_score(y_test, best_dtree.predict(X_test))))"
   ]
  },
  {
   "cell_type": "markdown",
   "metadata": {
    "id": "OO8jtbU2qcew"
   },
   "source": [
    "### Best Classification Model\n",
    "\n",
    "Looking at the values of F1_score, Train Score and Test Score of each of the above models we can conclude that, Linear SVC is the best classifier for this dataset with the values of \n",
    "* F1_Score = 0.698370993168681 \n",
    "* Train Score = 69.9189\n",
    "* Test Score = 69.0489\n",
    "\n",
    "This shows that model genralizes to the testing set really well and since the difference between scores is miniscule, hence overfitting will not be an issue."
   ]
  },
  {
   "cell_type": "markdown",
   "metadata": {
    "id": "RxvoMNrgqcew"
   },
   "source": [
    "-----------------------"
   ]
  },
  {
   "cell_type": "code",
   "execution_count": null,
   "metadata": {
    "id": "DBBK2nHLqcex"
   },
   "outputs": [],
   "source": []
  }
 ],
 "metadata": {
  "colab": {
   "collapsed_sections": [
    "x65ZkCTCqcc6",
    "Z11HhDCaqcdI",
    "5fzVvfbSqcdV",
    "aUacxmkkqcde",
    "pW3-5xkOqcdn",
    "wTy9v1uXqcdv",
    "sWamfow5qcd6",
    "dM6pBfyHqcd_",
    "uoE0Cy8xqceD",
    "lPsLjgDLqceQ",
    "LiplHS92qceU",
    "3Ly6ekwbqceX",
    "L5LossiUqceg",
    "RaNqfQ6_qcek",
    "0clrUcZtqcen",
    "kN2LSguWqcer",
    "OO8jtbU2qcew"
   ],
   "name": "ML_Classification_(1) (1) (1).ipynb",
   "provenance": []
  },
  "kernelspec": {
   "display_name": "Python 3",
   "language": "python",
   "name": "python3"
  },
  "language_info": {
   "codemirror_mode": {
    "name": "ipython",
    "version": 3
   },
   "file_extension": ".py",
   "mimetype": "text/x-python",
   "name": "python",
   "nbconvert_exporter": "python",
   "pygments_lexer": "ipython3",
   "version": "3.7.3"
  }
 },
 "nbformat": 4,
 "nbformat_minor": 1
}
